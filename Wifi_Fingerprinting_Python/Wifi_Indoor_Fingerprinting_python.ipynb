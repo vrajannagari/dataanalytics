{
 "cells": [
  {
   "cell_type": "markdown",
   "metadata": {},
   "source": [
    "# Load Packages"
   ]
  },
  {
   "cell_type": "code",
   "execution_count": 3,
   "metadata": {},
   "outputs": [],
   "source": [
    "# Load libraries\n",
    "import numpy as np\n",
    "import pandas as pd\n",
    "from matplotlib import pyplot\n",
    "from pandas import read_csv\n",
    "from pandas import set_option\n",
    "from pandas.plotting import scatter_matrix\n",
    "from sklearn.preprocessing import StandardScaler\n",
    "from sklearn.model_selection import train_test_split\n",
    "from sklearn.model_selection import KFold\n",
    "from sklearn.model_selection import cross_val_score\n",
    "from sklearn.model_selection import GridSearchCV\n",
    "from sklearn.metrics import classification_report\n",
    "from sklearn.metrics import confusion_matrix\n",
    "from sklearn.metrics import accuracy_score\n",
    "from sklearn.metrics import cohen_kappa_score\n",
    "from sklearn.pipeline import Pipeline\n",
    "from sklearn.linear_model import LogisticRegression\n",
    "from sklearn.tree import DecisionTreeClassifier\n",
    "from sklearn.neighbors import KNeighborsClassifier\n",
    "from sklearn.discriminant_analysis import LinearDiscriminantAnalysis\n",
    "from sklearn.naive_bayes import GaussianNB\n",
    "from sklearn.svm import SVC\n",
    "from sklearn.ensemble import AdaBoostClassifier\n",
    "from sklearn.ensemble import GradientBoostingClassifier\n",
    "from sklearn.ensemble import RandomForestClassifier\n",
    "from sklearn.ensemble import ExtraTreesClassifier\n",
    "\n",
    "import warnings\n",
    "warnings.filterwarnings('ignore')"
   ]
  },
  {
   "cell_type": "markdown",
   "metadata": {},
   "source": [
    "# Load and Evaluate Data"
   ]
  },
  {
   "cell_type": "code",
   "execution_count": 4,
   "metadata": {},
   "outputs": [],
   "source": [
    "dataset = pd.read_csv(\"UJIIndoorLoc_trainingData.csv\")"
   ]
  },
  {
   "cell_type": "code",
   "execution_count": 5,
   "metadata": {},
   "outputs": [
    {
     "data": {
      "text/html": [
       "<div>\n",
       "<style scoped>\n",
       "    .dataframe tbody tr th:only-of-type {\n",
       "        vertical-align: middle;\n",
       "    }\n",
       "\n",
       "    .dataframe tbody tr th {\n",
       "        vertical-align: top;\n",
       "    }\n",
       "\n",
       "    .dataframe thead th {\n",
       "        text-align: right;\n",
       "    }\n",
       "</style>\n",
       "<table border=\"1\" class=\"dataframe\">\n",
       "  <thead>\n",
       "    <tr style=\"text-align: right;\">\n",
       "      <th></th>\n",
       "      <th>WAP001</th>\n",
       "      <th>WAP002</th>\n",
       "      <th>WAP003</th>\n",
       "      <th>WAP004</th>\n",
       "      <th>WAP005</th>\n",
       "      <th>WAP006</th>\n",
       "      <th>WAP007</th>\n",
       "      <th>WAP008</th>\n",
       "      <th>WAP009</th>\n",
       "      <th>WAP010</th>\n",
       "      <th>...</th>\n",
       "      <th>WAP520</th>\n",
       "      <th>LONGITUDE</th>\n",
       "      <th>LATITUDE</th>\n",
       "      <th>FLOOR</th>\n",
       "      <th>BUILDINGID</th>\n",
       "      <th>SPACEID</th>\n",
       "      <th>RELATIVEPOSITION</th>\n",
       "      <th>USERID</th>\n",
       "      <th>PHONEID</th>\n",
       "      <th>TIMESTAMP</th>\n",
       "    </tr>\n",
       "  </thead>\n",
       "  <tbody>\n",
       "    <tr>\n",
       "      <th>0</th>\n",
       "      <td>100</td>\n",
       "      <td>100</td>\n",
       "      <td>100</td>\n",
       "      <td>100</td>\n",
       "      <td>100</td>\n",
       "      <td>100</td>\n",
       "      <td>100</td>\n",
       "      <td>100</td>\n",
       "      <td>100</td>\n",
       "      <td>100</td>\n",
       "      <td>...</td>\n",
       "      <td>100</td>\n",
       "      <td>-7541.2643</td>\n",
       "      <td>4.864921e+06</td>\n",
       "      <td>2</td>\n",
       "      <td>1</td>\n",
       "      <td>106</td>\n",
       "      <td>2</td>\n",
       "      <td>2</td>\n",
       "      <td>23</td>\n",
       "      <td>1371713733</td>\n",
       "    </tr>\n",
       "    <tr>\n",
       "      <th>1</th>\n",
       "      <td>100</td>\n",
       "      <td>100</td>\n",
       "      <td>100</td>\n",
       "      <td>100</td>\n",
       "      <td>100</td>\n",
       "      <td>100</td>\n",
       "      <td>100</td>\n",
       "      <td>100</td>\n",
       "      <td>100</td>\n",
       "      <td>100</td>\n",
       "      <td>...</td>\n",
       "      <td>100</td>\n",
       "      <td>-7536.6212</td>\n",
       "      <td>4.864934e+06</td>\n",
       "      <td>2</td>\n",
       "      <td>1</td>\n",
       "      <td>106</td>\n",
       "      <td>2</td>\n",
       "      <td>2</td>\n",
       "      <td>23</td>\n",
       "      <td>1371713691</td>\n",
       "    </tr>\n",
       "    <tr>\n",
       "      <th>2</th>\n",
       "      <td>100</td>\n",
       "      <td>100</td>\n",
       "      <td>100</td>\n",
       "      <td>100</td>\n",
       "      <td>100</td>\n",
       "      <td>100</td>\n",
       "      <td>100</td>\n",
       "      <td>-97</td>\n",
       "      <td>100</td>\n",
       "      <td>100</td>\n",
       "      <td>...</td>\n",
       "      <td>100</td>\n",
       "      <td>-7519.1524</td>\n",
       "      <td>4.864950e+06</td>\n",
       "      <td>2</td>\n",
       "      <td>1</td>\n",
       "      <td>103</td>\n",
       "      <td>2</td>\n",
       "      <td>2</td>\n",
       "      <td>23</td>\n",
       "      <td>1371714095</td>\n",
       "    </tr>\n",
       "    <tr>\n",
       "      <th>3</th>\n",
       "      <td>100</td>\n",
       "      <td>100</td>\n",
       "      <td>100</td>\n",
       "      <td>100</td>\n",
       "      <td>100</td>\n",
       "      <td>100</td>\n",
       "      <td>100</td>\n",
       "      <td>100</td>\n",
       "      <td>100</td>\n",
       "      <td>100</td>\n",
       "      <td>...</td>\n",
       "      <td>100</td>\n",
       "      <td>-7524.5704</td>\n",
       "      <td>4.864934e+06</td>\n",
       "      <td>2</td>\n",
       "      <td>1</td>\n",
       "      <td>102</td>\n",
       "      <td>2</td>\n",
       "      <td>2</td>\n",
       "      <td>23</td>\n",
       "      <td>1371713807</td>\n",
       "    </tr>\n",
       "    <tr>\n",
       "      <th>4</th>\n",
       "      <td>100</td>\n",
       "      <td>100</td>\n",
       "      <td>100</td>\n",
       "      <td>100</td>\n",
       "      <td>100</td>\n",
       "      <td>100</td>\n",
       "      <td>100</td>\n",
       "      <td>100</td>\n",
       "      <td>100</td>\n",
       "      <td>100</td>\n",
       "      <td>...</td>\n",
       "      <td>100</td>\n",
       "      <td>-7632.1436</td>\n",
       "      <td>4.864982e+06</td>\n",
       "      <td>0</td>\n",
       "      <td>0</td>\n",
       "      <td>122</td>\n",
       "      <td>2</td>\n",
       "      <td>11</td>\n",
       "      <td>13</td>\n",
       "      <td>1369909710</td>\n",
       "    </tr>\n",
       "  </tbody>\n",
       "</table>\n",
       "<p>5 rows × 529 columns</p>\n",
       "</div>"
      ],
      "text/plain": [
       "   WAP001  WAP002  WAP003  WAP004  WAP005  WAP006  WAP007  WAP008  WAP009  \\\n",
       "0     100     100     100     100     100     100     100     100     100   \n",
       "1     100     100     100     100     100     100     100     100     100   \n",
       "2     100     100     100     100     100     100     100     -97     100   \n",
       "3     100     100     100     100     100     100     100     100     100   \n",
       "4     100     100     100     100     100     100     100     100     100   \n",
       "\n",
       "   WAP010     ...      WAP520  LONGITUDE      LATITUDE  FLOOR  BUILDINGID  \\\n",
       "0     100     ...         100 -7541.2643  4.864921e+06      2           1   \n",
       "1     100     ...         100 -7536.6212  4.864934e+06      2           1   \n",
       "2     100     ...         100 -7519.1524  4.864950e+06      2           1   \n",
       "3     100     ...         100 -7524.5704  4.864934e+06      2           1   \n",
       "4     100     ...         100 -7632.1436  4.864982e+06      0           0   \n",
       "\n",
       "   SPACEID  RELATIVEPOSITION  USERID  PHONEID   TIMESTAMP  \n",
       "0      106                 2       2       23  1371713733  \n",
       "1      106                 2       2       23  1371713691  \n",
       "2      103                 2       2       23  1371714095  \n",
       "3      102                 2       2       23  1371713807  \n",
       "4      122                 2      11       13  1369909710  \n",
       "\n",
       "[5 rows x 529 columns]"
      ]
     },
     "execution_count": 5,
     "metadata": {},
     "output_type": "execute_result"
    }
   ],
   "source": [
    "dataset.head()"
   ]
  },
  {
   "cell_type": "code",
   "execution_count": 6,
   "metadata": {
    "scrolled": false
   },
   "outputs": [
    {
     "name": "stdout",
     "output_type": "stream",
     "text": [
      "WAP001                int64\n",
      "WAP002                int64\n",
      "WAP003                int64\n",
      "WAP004                int64\n",
      "WAP005                int64\n",
      "WAP006                int64\n",
      "WAP007                int64\n",
      "WAP008                int64\n",
      "WAP009                int64\n",
      "WAP010                int64\n",
      "WAP011                int64\n",
      "WAP012                int64\n",
      "                     ...   \n",
      "WAP518                int64\n",
      "WAP519                int64\n",
      "WAP520                int64\n",
      "LONGITUDE           float64\n",
      "LATITUDE            float64\n",
      "FLOOR                 int64\n",
      "BUILDINGID            int64\n",
      "SPACEID               int64\n",
      "RELATIVEPOSITION      int64\n",
      "USERID                int64\n",
      "PHONEID               int64\n",
      "TIMESTAMP             int64\n",
      "Length: 529, dtype: object\n"
     ]
    }
   ],
   "source": [
    "set_option('display.max_rows', 25) \n",
    "print(dataset.dtypes)"
   ]
  },
  {
   "cell_type": "code",
   "execution_count": 7,
   "metadata": {
    "scrolled": false
   },
   "outputs": [
    {
     "name": "stdout",
     "output_type": "stream",
     "text": [
      "    WAP001  WAP002  WAP003  WAP004  WAP005  WAP006  WAP007  WAP008  WAP009  WAP010     ...      \\\n",
      "0      100     100     100     100     100     100     100     100     100     100     ...       \n",
      "1      100     100     100     100     100     100     100     100     100     100     ...       \n",
      "2      100     100     100     100     100     100     100     -97     100     100     ...       \n",
      "3      100     100     100     100     100     100     100     100     100     100     ...       \n",
      "4      100     100     100     100     100     100     100     100     100     100     ...       \n",
      "5      100     100     100     100     100     100     100     100     100     100     ...       \n",
      "6      100     100     100     100     100     100     100     100     100     100     ...       \n",
      "7      100     100     100     100     100     100     100     100     100     100     ...       \n",
      "8      100     100     100     100     100     100     100     100     100     100     ...       \n",
      "9      100     100     100     100     100     100     100     100     100     100     ...       \n",
      "10     100     100     100     100     100     100     100     -83     100     100     ...       \n",
      "11     100     100     100     100     100     100     100     -90     100     100     ...       \n",
      "12     100     100     100     100     100     100     100     100     100     100     ...       \n",
      "13     100     100     100     100     100     100     100     100     100     100     ...       \n",
      "14     100     100     100     100     100     100     100     100     100     100     ...       \n",
      "15     100     100     100     100     100     100     100     100     100     100     ...       \n",
      "16     100     100     100     100     100     100     100     100     100     100     ...       \n",
      "17     100     100     100     100     100     100     100     100     100     100     ...       \n",
      "18     100     100     100     100     100     100     100     100     100     100     ...       \n",
      "19     100     100     100     100     100     100     100     100     100     100     ...       \n",
      "\n",
      "    WAP520    LONGITUDE      LATITUDE  FLOOR  BUILDINGID  SPACEID  RELATIVEPOSITION  USERID  \\\n",
      "0      100 -7541.264300  4.864921e+06      2           1      106                 2       2   \n",
      "1      100 -7536.621200  4.864934e+06      2           1      106                 2       2   \n",
      "2      100 -7519.152400  4.864950e+06      2           1      103                 2       2   \n",
      "3      100 -7524.570400  4.864934e+06      2           1      102                 2       2   \n",
      "4      100 -7632.143600  4.864982e+06      0           0      122                 2      11   \n",
      "5      100 -7533.896200  4.864939e+06      2           1      105                 2       2   \n",
      "6      100 -7519.152400  4.864950e+06      2           1      103                 2       2   \n",
      "7      100 -7527.451100  4.864929e+06      2           1      101                 2       2   \n",
      "8      100 -7559.497300  4.864888e+06      2           1      112                 2       2   \n",
      "9      100 -7510.437173  4.864949e+06      2           1      103                 1       2   \n",
      "10     100 -7528.816402  4.864959e+06      2           1      104                 1       2   \n",
      "11     100 -7523.628200  4.864952e+06      2           1      104                 2       2   \n",
      "12     100 -7571.093400  4.864872e+06      2           1      110                 2       2   \n",
      "13     100 -7559.782000  4.864871e+06      2           1      108                 2       2   \n",
      "14     100 -7562.186200  4.864867e+06      2           1      109                 2       2   \n",
      "15     100 -7564.196300  4.864887e+06      2           1      111                 2       2   \n",
      "16     100 -7555.132300  4.864885e+06      2           1      107                 2       2   \n",
      "17     100 -7520.724500  4.864892e+06      2           1       15                 2       2   \n",
      "18     100 -7521.867186  4.864889e+06      2           1       29                 1       2   \n",
      "19     100 -7537.339900  4.864896e+06      2           1      117                 2       2   \n",
      "\n",
      "    PHONEID   TIMESTAMP  \n",
      "0        23  1371713733  \n",
      "1        23  1371713691  \n",
      "2        23  1371714095  \n",
      "3        23  1371713807  \n",
      "4        13  1369909710  \n",
      "5        23  1371713841  \n",
      "6        23  1371713883  \n",
      "7        23  1371713775  \n",
      "8        23  1371714307  \n",
      "9        23  1371714128  \n",
      "10       23  1371714200  \n",
      "11       23  1371714166  \n",
      "12       23  1371714393  \n",
      "13       23  1371714467  \n",
      "14       23  1371714433  \n",
      "15       23  1371714355  \n",
      "16       23  1371714509  \n",
      "17       23  1371714730  \n",
      "18       23  1371714802  \n",
      "19       23  1371714556  \n",
      "\n",
      "[20 rows x 529 columns]\n"
     ]
    }
   ],
   "source": [
    "set_option('display.width', 100) \n",
    "print(dataset.head(20))"
   ]
  },
  {
   "cell_type": "code",
   "execution_count": 8,
   "metadata": {},
   "outputs": [
    {
     "data": {
      "text/html": [
       "<div>\n",
       "<style scoped>\n",
       "    .dataframe tbody tr th:only-of-type {\n",
       "        vertical-align: middle;\n",
       "    }\n",
       "\n",
       "    .dataframe tbody tr th {\n",
       "        vertical-align: top;\n",
       "    }\n",
       "\n",
       "    .dataframe thead th {\n",
       "        text-align: right;\n",
       "    }\n",
       "</style>\n",
       "<table border=\"1\" class=\"dataframe\">\n",
       "  <thead>\n",
       "    <tr style=\"text-align: right;\">\n",
       "      <th></th>\n",
       "      <th>FLOOR</th>\n",
       "      <th>BUILDINGID</th>\n",
       "      <th>SPACEID</th>\n",
       "      <th>RELATIVEPOSITION</th>\n",
       "      <th>USERID</th>\n",
       "      <th>PHONEID</th>\n",
       "    </tr>\n",
       "  </thead>\n",
       "  <tbody>\n",
       "    <tr>\n",
       "      <th>count</th>\n",
       "      <td>19937</td>\n",
       "      <td>19937</td>\n",
       "      <td>19937</td>\n",
       "      <td>19937</td>\n",
       "      <td>19937</td>\n",
       "      <td>19937</td>\n",
       "    </tr>\n",
       "    <tr>\n",
       "      <th>unique</th>\n",
       "      <td>5</td>\n",
       "      <td>3</td>\n",
       "      <td>123</td>\n",
       "      <td>2</td>\n",
       "      <td>18</td>\n",
       "      <td>16</td>\n",
       "    </tr>\n",
       "    <tr>\n",
       "      <th>top</th>\n",
       "      <td>3</td>\n",
       "      <td>2</td>\n",
       "      <td>202</td>\n",
       "      <td>2</td>\n",
       "      <td>11</td>\n",
       "      <td>14</td>\n",
       "    </tr>\n",
       "    <tr>\n",
       "      <th>freq</th>\n",
       "      <td>5048</td>\n",
       "      <td>9492</td>\n",
       "      <td>484</td>\n",
       "      <td>16608</td>\n",
       "      <td>4516</td>\n",
       "      <td>4835</td>\n",
       "    </tr>\n",
       "  </tbody>\n",
       "</table>\n",
       "</div>"
      ],
      "text/plain": [
       "        FLOOR BUILDINGID SPACEID RELATIVEPOSITION USERID PHONEID\n",
       "count   19937      19937   19937            19937  19937   19937\n",
       "unique      5          3     123                2     18      16\n",
       "top         3          2     202                2     11      14\n",
       "freq     5048       9492     484            16608   4516    4835"
      ]
     },
     "execution_count": 8,
     "metadata": {},
     "output_type": "execute_result"
    }
   ],
   "source": [
    "# Response variables in our problem are Building, Floor, Latitude, Longitude and Relative Position\n",
    "(dataset[['FLOOR','BUILDINGID', 'SPACEID','RELATIVEPOSITION','USERID','PHONEID']]\n",
    ".astype(str)\n",
    ".describe(include=['object']))"
   ]
  },
  {
   "cell_type": "code",
   "execution_count": 9,
   "metadata": {},
   "outputs": [
    {
     "data": {
      "image/png": "[encoded data removed]",
      "text/plain": [
       "<Figure size 432x288 with 1 Axes>"
      ]
     },
     "metadata": {},
     "output_type": "display_data"
    }
   ],
   "source": [
    "#Physical plot of the data by longitude and latitude showing three buildings\n",
    "x = dataset['LONGITUDE']\n",
    "y = dataset['LATITUDE']\n",
    "pyplot.scatter(x,y)\n",
    "pyplot.show()"
   ]
  },
  {
   "cell_type": "code",
   "execution_count": 10,
   "metadata": {},
   "outputs": [
    {
     "data": {
      "image/png": "[encoded data removed]",
      "text/plain": [
       "<Figure size 432x288 with 1 Axes>"
      ]
     },
     "metadata": {},
     "output_type": "display_data"
    }
   ],
   "source": [
    "pyplot.hist(dataset['BUILDINGID'])\n",
    "pyplot.show()"
   ]
  },
  {
   "cell_type": "code",
   "execution_count": 11,
   "metadata": {},
   "outputs": [
    {
     "data": {
      "image/png": "[encoded data removed]",
      "text/plain": [
       "<Figure size 432x288 with 1 Axes>"
      ]
     },
     "metadata": {},
     "output_type": "display_data"
    }
   ],
   "source": [
    "pyplot.hist(dataset['FLOOR'])\n",
    "pyplot.show()"
   ]
  },
  {
   "cell_type": "code",
   "execution_count": 12,
   "metadata": {},
   "outputs": [
    {
     "data": {
      "image/png": "[encoded data removed]",
      "text/plain": [
       "<Figure size 432x288 with 1 Axes>"
      ]
     },
     "metadata": {},
     "output_type": "display_data"
    }
   ],
   "source": [
    "pyplot.hist(dataset['SPACEID'])\n",
    "pyplot.show()"
   ]
  },
  {
   "cell_type": "markdown",
   "metadata": {},
   "source": [
    "# Preprocessing"
   ]
  },
  {
   "cell_type": "markdown",
   "metadata": {},
   "source": [
    " Focusing on Floor BuildingID and SpaceID predicted on 520 WAPs on 3 buildings so delete other variables"
   ]
  },
  {
   "cell_type": "code",
   "execution_count": 13,
   "metadata": {},
   "outputs": [],
   "source": [
    "del dataset ['LONGITUDE']\n",
    "del dataset ['LATITUDE']\n",
    "del dataset ['RELATIVEPOSITION']\n",
    "del dataset ['USERID']\n",
    "del dataset ['PHONEID']\n",
    "del dataset ['TIMESTAMP']\n"
   ]
  },
  {
   "cell_type": "code",
   "execution_count": 15,
   "metadata": {},
   "outputs": [
    {
     "name": "stdout",
     "output_type": "stream",
     "text": [
      "<class 'pandas.core.frame.DataFrame'>\n",
      "RangeIndex: 19937 entries, 0 to 19936\n",
      "Columns: 523 entries, WAP001 to SPACEID\n",
      "dtypes: int64(523)\n",
      "memory usage: 79.6 MB\n"
     ]
    }
   ],
   "source": [
    "dataset.info()"
   ]
  },
  {
   "cell_type": "code",
   "execution_count": 16,
   "metadata": {},
   "outputs": [
    {
     "name": "stdout",
     "output_type": "stream",
     "text": [
      "Summary of feature sample\n"
     ]
    },
    {
     "data": {
      "text/html": [
       "<div>\n",
       "<style scoped>\n",
       "    .dataframe tbody tr th:only-of-type {\n",
       "        vertical-align: middle;\n",
       "    }\n",
       "\n",
       "    .dataframe tbody tr th {\n",
       "        vertical-align: top;\n",
       "    }\n",
       "\n",
       "    .dataframe thead th {\n",
       "        text-align: right;\n",
       "    }\n",
       "</style>\n",
       "<table border=\"1\" class=\"dataframe\">\n",
       "  <thead>\n",
       "    <tr style=\"text-align: right;\">\n",
       "      <th></th>\n",
       "      <th>WAP001</th>\n",
       "      <th>WAP002</th>\n",
       "      <th>WAP003</th>\n",
       "      <th>WAP004</th>\n",
       "      <th>WAP005</th>\n",
       "      <th>WAP006</th>\n",
       "      <th>WAP007</th>\n",
       "      <th>WAP008</th>\n",
       "      <th>WAP009</th>\n",
       "      <th>WAP010</th>\n",
       "      <th>...</th>\n",
       "      <th>WAP511</th>\n",
       "      <th>WAP512</th>\n",
       "      <th>WAP513</th>\n",
       "      <th>WAP514</th>\n",
       "      <th>WAP515</th>\n",
       "      <th>WAP516</th>\n",
       "      <th>WAP517</th>\n",
       "      <th>WAP518</th>\n",
       "      <th>WAP519</th>\n",
       "      <th>WAP520</th>\n",
       "    </tr>\n",
       "  </thead>\n",
       "  <tbody>\n",
       "    <tr>\n",
       "      <th>0</th>\n",
       "      <td>100</td>\n",
       "      <td>100</td>\n",
       "      <td>100</td>\n",
       "      <td>100</td>\n",
       "      <td>100</td>\n",
       "      <td>100</td>\n",
       "      <td>100</td>\n",
       "      <td>100</td>\n",
       "      <td>100</td>\n",
       "      <td>100</td>\n",
       "      <td>...</td>\n",
       "      <td>100</td>\n",
       "      <td>100</td>\n",
       "      <td>100</td>\n",
       "      <td>100</td>\n",
       "      <td>100</td>\n",
       "      <td>100</td>\n",
       "      <td>100</td>\n",
       "      <td>100</td>\n",
       "      <td>100</td>\n",
       "      <td>100</td>\n",
       "    </tr>\n",
       "    <tr>\n",
       "      <th>1</th>\n",
       "      <td>100</td>\n",
       "      <td>100</td>\n",
       "      <td>100</td>\n",
       "      <td>100</td>\n",
       "      <td>100</td>\n",
       "      <td>100</td>\n",
       "      <td>100</td>\n",
       "      <td>100</td>\n",
       "      <td>100</td>\n",
       "      <td>100</td>\n",
       "      <td>...</td>\n",
       "      <td>100</td>\n",
       "      <td>100</td>\n",
       "      <td>100</td>\n",
       "      <td>100</td>\n",
       "      <td>100</td>\n",
       "      <td>100</td>\n",
       "      <td>100</td>\n",
       "      <td>100</td>\n",
       "      <td>100</td>\n",
       "      <td>100</td>\n",
       "    </tr>\n",
       "    <tr>\n",
       "      <th>2</th>\n",
       "      <td>100</td>\n",
       "      <td>100</td>\n",
       "      <td>100</td>\n",
       "      <td>100</td>\n",
       "      <td>100</td>\n",
       "      <td>100</td>\n",
       "      <td>100</td>\n",
       "      <td>-97</td>\n",
       "      <td>100</td>\n",
       "      <td>100</td>\n",
       "      <td>...</td>\n",
       "      <td>100</td>\n",
       "      <td>100</td>\n",
       "      <td>100</td>\n",
       "      <td>100</td>\n",
       "      <td>100</td>\n",
       "      <td>100</td>\n",
       "      <td>100</td>\n",
       "      <td>100</td>\n",
       "      <td>100</td>\n",
       "      <td>100</td>\n",
       "    </tr>\n",
       "    <tr>\n",
       "      <th>3</th>\n",
       "      <td>100</td>\n",
       "      <td>100</td>\n",
       "      <td>100</td>\n",
       "      <td>100</td>\n",
       "      <td>100</td>\n",
       "      <td>100</td>\n",
       "      <td>100</td>\n",
       "      <td>100</td>\n",
       "      <td>100</td>\n",
       "      <td>100</td>\n",
       "      <td>...</td>\n",
       "      <td>100</td>\n",
       "      <td>100</td>\n",
       "      <td>100</td>\n",
       "      <td>100</td>\n",
       "      <td>100</td>\n",
       "      <td>100</td>\n",
       "      <td>100</td>\n",
       "      <td>100</td>\n",
       "      <td>100</td>\n",
       "      <td>100</td>\n",
       "    </tr>\n",
       "    <tr>\n",
       "      <th>4</th>\n",
       "      <td>100</td>\n",
       "      <td>100</td>\n",
       "      <td>100</td>\n",
       "      <td>100</td>\n",
       "      <td>100</td>\n",
       "      <td>100</td>\n",
       "      <td>100</td>\n",
       "      <td>100</td>\n",
       "      <td>100</td>\n",
       "      <td>100</td>\n",
       "      <td>...</td>\n",
       "      <td>100</td>\n",
       "      <td>100</td>\n",
       "      <td>100</td>\n",
       "      <td>100</td>\n",
       "      <td>100</td>\n",
       "      <td>100</td>\n",
       "      <td>100</td>\n",
       "      <td>100</td>\n",
       "      <td>100</td>\n",
       "      <td>100</td>\n",
       "    </tr>\n",
       "  </tbody>\n",
       "</table>\n",
       "<p>5 rows × 520 columns</p>\n",
       "</div>"
      ],
      "text/plain": [
       "   WAP001  WAP002  WAP003  WAP004  WAP005  WAP006  WAP007  WAP008  WAP009  WAP010   ...    WAP511  \\\n",
       "0     100     100     100     100     100     100     100     100     100     100   ...       100   \n",
       "1     100     100     100     100     100     100     100     100     100     100   ...       100   \n",
       "2     100     100     100     100     100     100     100     -97     100     100   ...       100   \n",
       "3     100     100     100     100     100     100     100     100     100     100   ...       100   \n",
       "4     100     100     100     100     100     100     100     100     100     100   ...       100   \n",
       "\n",
       "   WAP512  WAP513  WAP514  WAP515  WAP516  WAP517  WAP518  WAP519  WAP520  \n",
       "0     100     100     100     100     100     100     100     100     100  \n",
       "1     100     100     100     100     100     100     100     100     100  \n",
       "2     100     100     100     100     100     100     100     100     100  \n",
       "3     100     100     100     100     100     100     100     100     100  \n",
       "4     100     100     100     100     100     100     100     100     100  \n",
       "\n",
       "[5 rows x 520 columns]"
      ]
     },
     "execution_count": 16,
     "metadata": {},
     "output_type": "execute_result"
    }
   ],
   "source": [
    "features = dataset.iloc[:,0:520]\n",
    "print('Summary of feature sample')\n",
    "features.head()"
   ]
  },
  {
   "cell_type": "code",
   "execution_count": 18,
   "metadata": {},
   "outputs": [
    {
     "data": {
      "text/plain": [
       "0    106\n",
       "1    106\n",
       "2    103\n",
       "3    102\n",
       "4    122\n",
       "Name: SPACEID, dtype: int64"
      ]
     },
     "execution_count": 18,
     "metadata": {},
     "output_type": "execute_result"
    }
   ],
   "source": [
    "#dependent variable set to SPACEID for this particular task\n",
    "depVar = dataset['SPACEID']\n",
    "depVar.head()"
   ]
  },
  {
   "cell_type": "markdown",
   "metadata": {},
   "source": [
    "# Train/test sets"
   ]
  },
  {
   "cell_type": "code",
   "execution_count": 19,
   "metadata": {},
   "outputs": [
    {
     "data": {
      "text/html": [
       "<div>\n",
       "<style scoped>\n",
       "    .dataframe tbody tr th:only-of-type {\n",
       "        vertical-align: middle;\n",
       "    }\n",
       "\n",
       "    .dataframe tbody tr th {\n",
       "        vertical-align: top;\n",
       "    }\n",
       "\n",
       "    .dataframe thead th {\n",
       "        text-align: right;\n",
       "    }\n",
       "</style>\n",
       "<table border=\"1\" class=\"dataframe\">\n",
       "  <thead>\n",
       "    <tr style=\"text-align: right;\">\n",
       "      <th></th>\n",
       "      <th>WAP001</th>\n",
       "      <th>WAP002</th>\n",
       "      <th>WAP003</th>\n",
       "      <th>WAP004</th>\n",
       "      <th>WAP005</th>\n",
       "      <th>WAP006</th>\n",
       "      <th>WAP007</th>\n",
       "      <th>WAP008</th>\n",
       "      <th>WAP009</th>\n",
       "      <th>WAP010</th>\n",
       "      <th>...</th>\n",
       "      <th>WAP511</th>\n",
       "      <th>WAP512</th>\n",
       "      <th>WAP513</th>\n",
       "      <th>WAP514</th>\n",
       "      <th>WAP515</th>\n",
       "      <th>WAP516</th>\n",
       "      <th>WAP517</th>\n",
       "      <th>WAP518</th>\n",
       "      <th>WAP519</th>\n",
       "      <th>WAP520</th>\n",
       "    </tr>\n",
       "  </thead>\n",
       "  <tbody>\n",
       "    <tr>\n",
       "      <th>0</th>\n",
       "      <td>100</td>\n",
       "      <td>100</td>\n",
       "      <td>100</td>\n",
       "      <td>100</td>\n",
       "      <td>100</td>\n",
       "      <td>100</td>\n",
       "      <td>100</td>\n",
       "      <td>100</td>\n",
       "      <td>100</td>\n",
       "      <td>100</td>\n",
       "      <td>...</td>\n",
       "      <td>100</td>\n",
       "      <td>100</td>\n",
       "      <td>100</td>\n",
       "      <td>100</td>\n",
       "      <td>100</td>\n",
       "      <td>100</td>\n",
       "      <td>100</td>\n",
       "      <td>100</td>\n",
       "      <td>100</td>\n",
       "      <td>100</td>\n",
       "    </tr>\n",
       "    <tr>\n",
       "      <th>1</th>\n",
       "      <td>100</td>\n",
       "      <td>100</td>\n",
       "      <td>100</td>\n",
       "      <td>100</td>\n",
       "      <td>100</td>\n",
       "      <td>100</td>\n",
       "      <td>100</td>\n",
       "      <td>100</td>\n",
       "      <td>100</td>\n",
       "      <td>100</td>\n",
       "      <td>...</td>\n",
       "      <td>100</td>\n",
       "      <td>100</td>\n",
       "      <td>100</td>\n",
       "      <td>100</td>\n",
       "      <td>100</td>\n",
       "      <td>100</td>\n",
       "      <td>100</td>\n",
       "      <td>100</td>\n",
       "      <td>100</td>\n",
       "      <td>100</td>\n",
       "    </tr>\n",
       "    <tr>\n",
       "      <th>2</th>\n",
       "      <td>100</td>\n",
       "      <td>100</td>\n",
       "      <td>100</td>\n",
       "      <td>100</td>\n",
       "      <td>100</td>\n",
       "      <td>100</td>\n",
       "      <td>100</td>\n",
       "      <td>-97</td>\n",
       "      <td>100</td>\n",
       "      <td>100</td>\n",
       "      <td>...</td>\n",
       "      <td>100</td>\n",
       "      <td>100</td>\n",
       "      <td>100</td>\n",
       "      <td>100</td>\n",
       "      <td>100</td>\n",
       "      <td>100</td>\n",
       "      <td>100</td>\n",
       "      <td>100</td>\n",
       "      <td>100</td>\n",
       "      <td>100</td>\n",
       "    </tr>\n",
       "    <tr>\n",
       "      <th>3</th>\n",
       "      <td>100</td>\n",
       "      <td>100</td>\n",
       "      <td>100</td>\n",
       "      <td>100</td>\n",
       "      <td>100</td>\n",
       "      <td>100</td>\n",
       "      <td>100</td>\n",
       "      <td>100</td>\n",
       "      <td>100</td>\n",
       "      <td>100</td>\n",
       "      <td>...</td>\n",
       "      <td>100</td>\n",
       "      <td>100</td>\n",
       "      <td>100</td>\n",
       "      <td>100</td>\n",
       "      <td>100</td>\n",
       "      <td>100</td>\n",
       "      <td>100</td>\n",
       "      <td>100</td>\n",
       "      <td>100</td>\n",
       "      <td>100</td>\n",
       "    </tr>\n",
       "    <tr>\n",
       "      <th>4</th>\n",
       "      <td>100</td>\n",
       "      <td>100</td>\n",
       "      <td>100</td>\n",
       "      <td>100</td>\n",
       "      <td>100</td>\n",
       "      <td>100</td>\n",
       "      <td>100</td>\n",
       "      <td>100</td>\n",
       "      <td>100</td>\n",
       "      <td>100</td>\n",
       "      <td>...</td>\n",
       "      <td>100</td>\n",
       "      <td>100</td>\n",
       "      <td>100</td>\n",
       "      <td>100</td>\n",
       "      <td>100</td>\n",
       "      <td>100</td>\n",
       "      <td>100</td>\n",
       "      <td>100</td>\n",
       "      <td>100</td>\n",
       "      <td>100</td>\n",
       "    </tr>\n",
       "  </tbody>\n",
       "</table>\n",
       "<p>5 rows × 520 columns</p>\n",
       "</div>"
      ],
      "text/plain": [
       "   WAP001  WAP002  WAP003  WAP004  WAP005  WAP006  WAP007  WAP008  WAP009  WAP010   ...    WAP511  \\\n",
       "0     100     100     100     100     100     100     100     100     100     100   ...       100   \n",
       "1     100     100     100     100     100     100     100     100     100     100   ...       100   \n",
       "2     100     100     100     100     100     100     100     -97     100     100   ...       100   \n",
       "3     100     100     100     100     100     100     100     100     100     100   ...       100   \n",
       "4     100     100     100     100     100     100     100     100     100     100   ...       100   \n",
       "\n",
       "   WAP512  WAP513  WAP514  WAP515  WAP516  WAP517  WAP518  WAP519  WAP520  \n",
       "0     100     100     100     100     100     100     100     100     100  \n",
       "1     100     100     100     100     100     100     100     100     100  \n",
       "2     100     100     100     100     100     100     100     100     100  \n",
       "3     100     100     100     100     100     100     100     100     100  \n",
       "4     100     100     100     100     100     100     100     100     100  \n",
       "\n",
       "[5 rows x 520 columns]"
      ]
     },
     "execution_count": 19,
     "metadata": {},
     "output_type": "execute_result"
    }
   ],
   "source": [
    "#Training Set (Feature Space: X Training)\n",
    "X_train = (features[: 5000])\n",
    "X_train.head()"
   ]
  },
  {
   "cell_type": "code",
   "execution_count": 20,
   "metadata": {},
   "outputs": [
    {
     "name": "stdout",
     "output_type": "stream",
     "text": [
      "The number of observations in the Y training set are: 5000\n"
     ]
    },
    {
     "data": {
      "text/plain": [
       "0    106\n",
       "1    106\n",
       "2    103\n",
       "3    102\n",
       "4    122\n",
       "Name: SPACEID, dtype: int64"
      ]
     },
     "execution_count": 20,
     "metadata": {},
     "output_type": "execute_result"
    }
   ],
   "source": [
    "#Dependent Variable Training Set (Y Training)\n",
    "Y_train = depVar[: 5000]\n",
    "Y_train_count = len(Y_train.index)\n",
    "print('The number of observations in the Y training set are:',str(Y_train_count))\n",
    "Y_train.head()"
   ]
  },
  {
   "cell_type": "code",
   "execution_count": 21,
   "metadata": {},
   "outputs": [
    {
     "name": "stdout",
     "output_type": "stream",
     "text": [
      "The number of observations in the feature testing set is: 1500\n",
      "       WAP001  WAP002  WAP003  WAP004  WAP005  WAP006  WAP007  WAP008  WAP009  WAP010   ...    \\\n",
      "18437     100     100     100     100     100     100     100     100     100     100   ...     \n",
      "18438     100     100     100     100     100     100     100     100     100     100   ...     \n",
      "18439     100     100     100     100     100     100     100     100     100     100   ...     \n",
      "18440     100     100     100     100     100     100     100     100     100     100   ...     \n",
      "18441     100     100     100     100     100     100     100     100     100     100   ...     \n",
      "\n",
      "       WAP511  WAP512  WAP513  WAP514  WAP515  WAP516  WAP517  WAP518  WAP519  WAP520  \n",
      "18437     100     100     100     100     100     100     100     100     100     100  \n",
      "18438     100     100     100     100     100     100     100     100     100     100  \n",
      "18439     100     100     100     100     100     100     100     100     100     100  \n",
      "18440     100     100     100     100     100     100     100     100     100     100  \n",
      "18441     100     100     100     100     100     100     100     100     100     100  \n",
      "\n",
      "[5 rows x 520 columns]\n"
     ]
    }
   ],
   "source": [
    "#Testing Set (X Testing)\n",
    "X_test = features[-1500:]\n",
    "X_test_count = len(X_test.index)\n",
    "print('The number of observations in the feature testing set is:',str(X_test_count))\n",
    "print(X_test.head())"
   ]
  },
  {
   "cell_type": "code",
   "execution_count": 22,
   "metadata": {},
   "outputs": [
    {
     "name": "stdout",
     "output_type": "stream",
     "text": [
      "The number of observations in the Y training set are: 1500\n"
     ]
    },
    {
     "data": {
      "text/plain": [
       "18437    114\n",
       "18438    115\n",
       "18439    117\n",
       "18440    121\n",
       "18441    118\n",
       "Name: SPACEID, dtype: int64"
      ]
     },
     "execution_count": 22,
     "metadata": {},
     "output_type": "execute_result"
    }
   ],
   "source": [
    "#Ground Truth (y_test) \n",
    "Y_test = depVar[-1500:]\n",
    "Y_test_count = len(Y_test.index)\n",
    "print('The number of observations in the Y training set are:',str(Y_test_count))\n",
    "Y_test.head()"
   ]
  },
  {
   "cell_type": "code",
   "execution_count": 23,
   "metadata": {},
   "outputs": [
    {
     "data": {
      "text/plain": [
       "((3750, 520), (1250, 520))"
      ]
     },
     "execution_count": 23,
     "metadata": {},
     "output_type": "execute_result"
    }
   ],
   "source": [
    "# Split-out validation dataset\n",
    "X_train, X_test, Y_train, Y_test = train_test_split(X_train, Y_train)\n",
    "X_train.shape, X_test.shape"
   ]
  },
  {
   "cell_type": "markdown",
   "metadata": {},
   "source": [
    "# Use 10-fold cross validation to estimate accuracy."
   ]
  },
  {
   "cell_type": "code",
   "execution_count": 24,
   "metadata": {},
   "outputs": [],
   "source": [
    "# Test options and evaluation metric\n",
    "num_folds = 10\n",
    "seed = 7\n",
    "scoring = 'accuracy'"
   ]
  },
  {
   "cell_type": "markdown",
   "metadata": {},
   "source": [
    "# Build Models. Evaluate six algorithms including simple linear(LR and LDA) and 4 nonlinear."
   ]
  },
  {
   "cell_type": "code",
   "execution_count": 25,
   "metadata": {},
   "outputs": [],
   "source": [
    "# Spot-Check Algorithms\n",
    "models = []\n",
    "models.append(('LR', LogisticRegression())) \n",
    "models.append(('KNN', KNeighborsClassifier()))\n",
    "models.append(('NB', GaussianNB())) \n",
    "models.append(('SVM', SVC()))"
   ]
  },
  {
   "cell_type": "markdown",
   "metadata": {},
   "source": [
    "# Train suite of algorithms and select best models. "
   ]
  },
  {
   "cell_type": "code",
   "execution_count": 26,
   "metadata": {},
   "outputs": [
    {
     "name": "stdout",
     "output_type": "stream",
     "text": [
      "LR: 0.513067 (0.019458)\n",
      "KNN: 0.616000 (0.025689)\n",
      "NB: 0.368267 (0.036299)\n",
      "SVM: 0.111467 (0.017191)\n"
     ]
    }
   ],
   "source": [
    "results = []\n",
    "names = []\n",
    "for name, model in models:\n",
    "  kfold = KFold(n_splits=num_folds, random_state=seed)\n",
    "  cv_results = cross_val_score(model, X_train, Y_train, cv=kfold, scoring=scoring)\n",
    "  results.append(cv_results)\n",
    "  names.append(name)\n",
    "  msg = \"%s: %f (%f)\" % (name, cv_results.mean(), cv_results.std())\n",
    "  print(msg)"
   ]
  },
  {
   "cell_type": "code",
   "execution_count": 27,
   "metadata": {},
   "outputs": [
    {
     "data": {
      "image/png": "[encoded data removed]",
      "text/plain": [
       "<Figure size 432x288 with 1 Axes>"
      ]
     },
     "metadata": {},
     "output_type": "display_data"
    }
   ],
   "source": [
    "# Compare Algorithms\n",
    "fig = pyplot.figure() \n",
    "fig.suptitle('Algorithm Comparison') \n",
    "ax = fig.add_subplot(111) \n",
    "pyplot.boxplot(results) \n",
    "ax.set_xticklabels(names)\n",
    "pyplot.show()"
   ]
  },
  {
   "cell_type": "code",
   "execution_count": 28,
   "metadata": {
    "scrolled": true
   },
   "outputs": [
    {
     "name": "stdout",
     "output_type": "stream",
     "text": [
      "ScaledLR: 0.577867 (0.016910)\n",
      "ScaledKNN: 0.579733 (0.020351)\n",
      "ScaledNB: 0.364800 (0.035952)\n",
      "ScaledSVM: 0.428267 (0.029843)\n"
     ]
    }
   ],
   "source": [
    "# Standardize the dataset\n",
    "pipelines = []\n",
    "pipelines.append(('ScaledLR', Pipeline([('Scaler', StandardScaler()),('LR', LogisticRegression())])))\n",
    "pipelines.append(('ScaledKNN', Pipeline([('Scaler', StandardScaler()),('KNN', KNeighborsClassifier())])))\n",
    "pipelines.append(('ScaledNB', Pipeline([('Scaler', StandardScaler()),('NB', GaussianNB())])))\n",
    "pipelines.append(('ScaledSVM', Pipeline([('Scaler', StandardScaler()),('SVM', SVC())]))) \n",
    "results = []\n",
    "names = []\n",
    "for name, model in pipelines:\n",
    "  kfold = KFold(n_splits=num_folds, random_state=seed)\n",
    "  cv_results = cross_val_score(model, X_train, Y_train, cv=kfold, scoring=scoring)\n",
    "  results.append(cv_results)\n",
    "  names.append(name)\n",
    "  msg = \"%s: %f (%f)\" % (name, cv_results.mean(), cv_results.std())\n",
    "  print(msg)"
   ]
  },
  {
   "cell_type": "code",
   "execution_count": 29,
   "metadata": {},
   "outputs": [
    {
     "data": {
      "image/png": "[encoded data removed]",
      "text/plain": [
       "<Figure size 432x288 with 1 Axes>"
      ]
     },
     "metadata": {},
     "output_type": "display_data"
    }
   ],
   "source": [
    "# Compare Algorithms\n",
    "fig = pyplot.figure()\n",
    "fig.suptitle('Scaled Algorithm Comparison') \n",
    "ax = fig.add_subplot(111) \n",
    "pyplot.boxplot(results) \n",
    "ax.set_xticklabels(names)\n",
    "pyplot.show()"
   ]
  },
  {
   "cell_type": "markdown",
   "metadata": {},
   "source": [
    "# Tuning of the algorithms"
   ]
  },
  {
   "cell_type": "code",
   "execution_count": 30,
   "metadata": {},
   "outputs": [
    {
     "name": "stdout",
     "output_type": "stream",
     "text": [
      "Best: 0.673067 using {'n_neighbors': 1}\n",
      "0.673067 (0.019567) with: {'n_neighbors': 1}\n",
      "0.581600 (0.021481) with: {'n_neighbors': 5}\n",
      "0.493067 (0.014234) with: {'n_neighbors': 10}\n",
      "0.452800 (0.021159) with: {'n_neighbors': 15}\n",
      "0.403733 (0.033756) with: {'n_neighbors': 21}\n",
      "0.370933 (0.033059) with: {'n_neighbors': 25}\n"
     ]
    }
   ],
   "source": [
    "# Tune KNN\n",
    "scaler = StandardScaler().fit(X_train)\n",
    "rescaledX = scaler.transform(X_train)\n",
    "neighbors = [1,5,10,15,21,25]\n",
    "param_grid = dict(n_neighbors=neighbors)\n",
    "model = KNeighborsClassifier()\n",
    "kfold = KFold(n_splits=num_folds, random_state=seed)\n",
    "grid = GridSearchCV(estimator=model, param_grid=param_grid, scoring=scoring, cv=kfold)\n",
    "grid_result = grid.fit(rescaledX, Y_train)\n",
    "print(\"Best: %f using %s\" % (grid_result.best_score_, grid_result.best_params_))\n",
    "means = grid_result.cv_results_['mean_test_score'] \n",
    "stds = grid_result.cv_results_['std_test_score'] \n",
    "params = grid_result.cv_results_['params']\n",
    "for mean, stdev, param in zip(means, stds, params):\n",
    "    print(\"%f (%f) with: %r\" % (mean, stdev, param))"
   ]
  },
  {
   "cell_type": "code",
   "execution_count": 31,
   "metadata": {
    "scrolled": false
   },
   "outputs": [
    {
     "name": "stdout",
     "output_type": "stream",
     "text": [
      "Best: 0.649600 using {'C': 0.1, 'kernel': 'linear'}\n",
      "0.649600 (0.018939) with: {'C': 0.1, 'kernel': 'linear'}\n",
      "0.063733 (0.006133) with: {'C': 0.1, 'kernel': 'poly'}\n",
      "0.073067 (0.011263) with: {'C': 0.1, 'kernel': 'rbf'}\n",
      "0.074667 (0.008262) with: {'C': 0.1, 'kernel': 'sigmoid'}\n",
      "0.637333 (0.021598) with: {'C': 0.5, 'kernel': 'linear'}\n",
      "0.127467 (0.012033) with: {'C': 0.5, 'kernel': 'poly'}\n",
      "0.291733 (0.020628) with: {'C': 0.5, 'kernel': 'rbf'}\n",
      "0.218933 (0.015340) with: {'C': 0.5, 'kernel': 'sigmoid'}\n",
      "0.635200 (0.023424) with: {'C': 1.0, 'kernel': 'linear'}\n",
      "0.169600 (0.017697) with: {'C': 1.0, 'kernel': 'poly'}\n",
      "0.430400 (0.029435) with: {'C': 1.0, 'kernel': 'rbf'}\n",
      "0.312533 (0.027320) with: {'C': 1.0, 'kernel': 'sigmoid'}\n",
      "0.636800 (0.024695) with: {'C': 1.5, 'kernel': 'linear'}\n",
      "0.193333 (0.016664) with: {'C': 1.5, 'kernel': 'poly'}\n",
      "0.518400 (0.026052) with: {'C': 1.5, 'kernel': 'rbf'}\n",
      "0.380000 (0.030898) with: {'C': 1.5, 'kernel': 'sigmoid'}\n"
     ]
    }
   ],
   "source": [
    "# Tune SVM/SVC\n",
    "scaler = StandardScaler().fit(X_train)\n",
    "rescaledX = scaler.transform(X_train)\n",
    "c_values = [0.1, 0.5, 1.0, 1.5]\n",
    "kernel_values = ['linear', 'poly','rbf', 'sigmoid']\n",
    "param_grid = dict(C=c_values, kernel=kernel_values)\n",
    "model = SVC()\n",
    "kfold = KFold(n_splits=num_folds, random_state=seed)\n",
    "grid = GridSearchCV(estimator=model, param_grid=param_grid, scoring=scoring, cv=kfold) \n",
    "grid_result = grid.fit(rescaledX, Y_train)\n",
    "print(\"Best: %f using %s\" % (grid_result.best_score_, grid_result.best_params_))\n",
    "means = grid_result.cv_results_['mean_test_score']\n",
    "stds = grid_result.cv_results_['std_test_score']\n",
    "params = grid_result.cv_results_['params']\n",
    "for mean, stdev, param in zip(means, stds, params):\n",
    "    print(\"%f (%f) with: %r\" % (mean, stdev, param))"
   ]
  },
  {
   "cell_type": "markdown",
   "metadata": {},
   "source": [
    "# Make Predictions"
   ]
  },
  {
   "cell_type": "code",
   "execution_count": 32,
   "metadata": {},
   "outputs": [
    {
     "name": "stdout",
     "output_type": "stream",
     "text": [
      "Accuracy: 0.727\n",
      "[[9 0 0 ... 0 0 0]\n",
      " [0 9 0 ... 0 0 0]\n",
      " [1 2 4 ... 0 0 0]\n",
      " ...\n",
      " [0 0 0 ... 6 0 0]\n",
      " [0 0 0 ... 0 5 0]\n",
      " [0 0 0 ... 0 0 1]]\n",
      "              precision    recall  f1-score   support\n",
      "\n",
      "           2       0.75      1.00      0.86         9\n",
      "           3       0.82      1.00      0.90         9\n",
      "           4       0.80      0.44      0.57         9\n",
      "           5       0.80      0.80      0.80         5\n",
      "           6       1.00      1.00      1.00         5\n",
      "           7       0.80      1.00      0.89         8\n",
      "           8       0.85      1.00      0.92        11\n",
      "           9       0.83      0.71      0.77        14\n",
      "          10       0.95      0.90      0.92        20\n",
      "          15       0.43      1.00      0.60         3\n",
      "          16       0.20      1.00      0.33         1\n",
      "          17       0.75      0.75      0.75         4\n",
      "          18       0.50      1.00      0.67         3\n",
      "          22       1.00      0.67      0.80         3\n",
      "          26       1.00      0.33      0.50         3\n",
      "          27       0.00      0.00      0.00         2\n",
      "          28       1.00      0.83      0.91         6\n",
      "          29       1.00      0.44      0.62         9\n",
      "         101       0.59      0.87      0.70        23\n",
      "         102       0.71      0.59      0.64        29\n",
      "         103       0.66      0.68      0.67        31\n",
      "         104       0.80      0.80      0.80        20\n",
      "         105       0.68      0.93      0.79        14\n",
      "         106       0.91      0.83      0.87        24\n",
      "         107       0.70      0.78      0.74        18\n",
      "         108       0.62      0.79      0.70        19\n",
      "         109       0.62      0.73      0.67        22\n",
      "         110       0.57      0.85      0.68        20\n",
      "         111       0.50      0.55      0.52        11\n",
      "         112       0.88      0.78      0.82        27\n",
      "         113       0.25      0.55      0.34        11\n",
      "         114       0.67      0.67      0.67        12\n",
      "         115       0.33      0.50      0.40         6\n",
      "         116       0.89      0.57      0.70        14\n",
      "         117       0.71      0.56      0.63         9\n",
      "         118       0.60      0.38      0.46         8\n",
      "         119       0.67      0.57      0.62         7\n",
      "         120       0.80      0.67      0.73        12\n",
      "         121       0.62      0.50      0.56        10\n",
      "         122       0.59      0.91      0.71        11\n",
      "         123       1.00      0.75      0.86         4\n",
      "         124       0.60      0.25      0.35        12\n",
      "         125       0.50      0.50      0.50         8\n",
      "         126       0.62      0.62      0.62         8\n",
      "         127       1.00      0.90      0.95        10\n",
      "         128       0.86      0.55      0.67        11\n",
      "         129       0.56      0.90      0.69        10\n",
      "         130       0.83      0.62      0.71         8\n",
      "         131       1.00      0.80      0.89        10\n",
      "         132       0.71      0.71      0.71         7\n",
      "         133       0.90      0.69      0.78        13\n",
      "         134       0.64      1.00      0.78         9\n",
      "         135       1.00      0.40      0.57        10\n",
      "         136       1.00      0.85      0.92        13\n",
      "         137       0.62      0.62      0.62         8\n",
      "         138       1.00      1.00      1.00         3\n",
      "         139       0.50      1.00      0.67         1\n",
      "         140       0.89      0.89      0.89         9\n",
      "         141       1.00      0.50      0.67        14\n",
      "         142       0.00      0.00      0.00         0\n",
      "         143       0.80      0.57      0.67        14\n",
      "         146       1.00      1.00      1.00         4\n",
      "         147       1.00      1.00      1.00         2\n",
      "         201       0.75      0.80      0.77        30\n",
      "         202       0.96      0.78      0.86        32\n",
      "         203       0.76      0.76      0.76        17\n",
      "         204       0.94      0.80      0.86        20\n",
      "         205       0.83      0.77      0.80        13\n",
      "         206       0.75      0.88      0.81        17\n",
      "         207       0.90      0.50      0.64        18\n",
      "         208       0.70      0.88      0.78        16\n",
      "         209       0.62      0.89      0.73         9\n",
      "         210       0.73      0.67      0.70        12\n",
      "         211       0.65      0.85      0.73        13\n",
      "         212       0.83      0.71      0.77         7\n",
      "         213       0.69      0.82      0.75        11\n",
      "         214       0.93      0.72      0.81        18\n",
      "         215       0.69      0.90      0.78        10\n",
      "         216       0.77      0.77      0.77        22\n",
      "         217       0.92      0.80      0.86        15\n",
      "         218       0.50      0.57      0.53         7\n",
      "         219       0.60      0.33      0.43         9\n",
      "         220       0.57      0.40      0.47        10\n",
      "         221       1.00      0.25      0.40         4\n",
      "         222       0.77      0.71      0.74        14\n",
      "         223       1.00      0.88      0.93         8\n",
      "         224       0.60      0.75      0.67         4\n",
      "         225       1.00      0.40      0.57         5\n",
      "         226       0.75      1.00      0.86         3\n",
      "         227       0.62      0.50      0.56        10\n",
      "         228       0.44      0.57      0.50         7\n",
      "         229       0.38      0.38      0.38         8\n",
      "         230       0.53      0.91      0.67        11\n",
      "         231       0.73      0.73      0.73        11\n",
      "         232       0.75      0.50      0.60         6\n",
      "         233       0.71      0.83      0.77         6\n",
      "         234       0.57      0.80      0.67         5\n",
      "         235       0.50      0.50      0.50         4\n",
      "         236       1.00      1.00      1.00        12\n",
      "         237       0.78      0.88      0.82         8\n",
      "         238       0.60      0.46      0.52        13\n",
      "         239       0.40      0.57      0.47         7\n",
      "         240       0.67      1.00      0.80         6\n",
      "         241       0.83      0.71      0.77         7\n",
      "         242       0.80      0.73      0.76        11\n",
      "         243       0.77      0.71      0.74        14\n",
      "         244       0.60      0.56      0.58        16\n",
      "         245       0.67      0.50      0.57         8\n",
      "         246       0.80      0.44      0.57         9\n",
      "         247       0.94      0.94      0.94        17\n",
      "         248       0.83      1.00      0.90        19\n",
      "         249       0.67      0.67      0.67         6\n",
      "         250       1.00      0.67      0.80         9\n",
      "         253       1.00      1.00      1.00         5\n",
      "         254       1.00      1.00      1.00         1\n",
      "\n",
      "   micro avg       0.73      0.73      0.73      1250\n",
      "   macro avg       0.74      0.71      0.70      1250\n",
      "weighted avg       0.76      0.73      0.73      1250\n",
      "\n"
     ]
    }
   ],
   "source": [
    "RF = RandomForestClassifier()\n",
    "RF.fit(X_train, Y_train)\n",
    "predictions = RF.predict(X_test)\n",
    "predAccuracy = accuracy_score(Y_test,predictions)\n",
    "print('Accuracy: %.3f' % predAccuracy)\n",
    "print(confusion_matrix(Y_test, predictions))\n",
    "print(classification_report(Y_test, predictions))"
   ]
  },
  {
   "cell_type": "code",
   "execution_count": 33,
   "metadata": {},
   "outputs": [
    {
     "name": "stdout",
     "output_type": "stream",
     "text": [
      "Kappa: 0.722\n"
     ]
    }
   ],
   "source": [
    "RF = RandomForestClassifier()\n",
    "RF.fit(X_train, Y_train)\n",
    "predictions = RF.predict(X_test)\n",
    "predKappa = cohen_kappa_score(Y_test,predictions)\n",
    "print('Kappa: %.3f' % predKappa)"
   ]
  },
  {
   "cell_type": "code",
   "execution_count": 34,
   "metadata": {},
   "outputs": [
    {
     "data": {
      "image/png": "[encoded data removed]",
      "text/plain": [
       "<Figure size 432x288 with 1 Axes>"
      ]
     },
     "metadata": {},
     "output_type": "display_data"
    }
   ],
   "source": [
    "from matplotlib import pyplot as plt\n",
    "plt.scatter(Y_test, predictions, color=['blue','green'], alpha = 0.5)\n",
    "plt.xlabel('Ground Truth')\n",
    "plt.ylabel('Predictions')\n",
    "plt.show();"
   ]
  },
  {
   "cell_type": "code",
   "execution_count": 35,
   "metadata": {},
   "outputs": [
    {
     "name": "stdout",
     "output_type": "stream",
     "text": [
      "Accuracy: 0.595\n",
      "[[7 0 0 ... 0 0 0]\n",
      " [2 5 2 ... 0 0 0]\n",
      " [3 3 3 ... 0 0 0]\n",
      " ...\n",
      " [0 0 0 ... 5 0 0]\n",
      " [0 0 0 ... 0 5 0]\n",
      " [0 0 0 ... 0 0 1]]\n",
      "              precision    recall  f1-score   support\n",
      "\n",
      "           2       0.44      0.78      0.56         9\n",
      "           3       0.62      0.56      0.59         9\n",
      "           4       0.50      0.33      0.40         9\n",
      "           5       1.00      0.40      0.57         5\n",
      "           6       0.62      1.00      0.77         5\n",
      "           7       1.00      1.00      1.00         8\n",
      "           8       0.83      0.45      0.59        11\n",
      "           9       0.61      0.79      0.69        14\n",
      "          10       0.64      0.80      0.71        20\n",
      "          15       0.60      1.00      0.75         3\n",
      "          16       0.00      0.00      0.00         1\n",
      "          17       0.75      0.75      0.75         4\n",
      "          18       0.67      0.67      0.67         3\n",
      "          22       0.50      1.00      0.67         3\n",
      "          26       1.00      0.33      0.50         3\n",
      "          27       1.00      0.50      0.67         2\n",
      "          28       1.00      0.67      0.80         6\n",
      "          29       1.00      0.22      0.36         9\n",
      "         101       0.39      0.65      0.49        23\n",
      "         102       0.57      0.69      0.62        29\n",
      "         103       0.74      0.45      0.56        31\n",
      "         104       0.65      0.65      0.65        20\n",
      "         105       0.47      0.50      0.48        14\n",
      "         106       0.68      0.62      0.65        24\n",
      "         107       0.52      0.72      0.60        18\n",
      "         108       0.52      0.79      0.62        19\n",
      "         109       0.44      0.55      0.49        22\n",
      "         110       0.48      0.65      0.55        20\n",
      "         111       0.50      0.45      0.48        11\n",
      "         112       0.87      0.74      0.80        27\n",
      "         113       0.56      0.45      0.50        11\n",
      "         114       0.75      0.50      0.60        12\n",
      "         115       0.40      0.33      0.36         6\n",
      "         116       0.89      0.57      0.70        14\n",
      "         117       0.75      0.33      0.46         9\n",
      "         118       0.50      0.38      0.43         8\n",
      "         119       1.00      0.29      0.44         7\n",
      "         120       0.83      0.42      0.56        12\n",
      "         121       0.45      0.50      0.48        10\n",
      "         122       0.64      0.82      0.72        11\n",
      "         123       0.50      0.50      0.50         4\n",
      "         124       1.00      0.67      0.80        12\n",
      "         125       0.50      0.62      0.56         8\n",
      "         126       0.62      0.62      0.62         8\n",
      "         127       0.88      0.70      0.78        10\n",
      "         128       0.82      0.82      0.82        11\n",
      "         129       0.54      0.70      0.61        10\n",
      "         130       0.83      0.62      0.71         8\n",
      "         131       0.73      0.80      0.76        10\n",
      "         132       0.56      0.71      0.63         7\n",
      "         133       0.77      0.77      0.77        13\n",
      "         134       0.80      0.89      0.84         9\n",
      "         135       0.75      0.30      0.43        10\n",
      "         136       1.00      0.85      0.92        13\n",
      "         137       0.86      0.75      0.80         8\n",
      "         138       1.00      1.00      1.00         3\n",
      "         139       0.50      1.00      0.67         1\n",
      "         140       0.50      0.89      0.64         9\n",
      "         141       1.00      0.36      0.53        14\n",
      "         143       0.78      0.50      0.61        14\n",
      "         146       1.00      1.00      1.00         4\n",
      "         147       0.67      1.00      0.80         2\n",
      "         201       0.83      0.50      0.62        30\n",
      "         202       0.69      0.62      0.66        32\n",
      "         203       0.31      0.47      0.37        17\n",
      "         204       0.86      0.60      0.71        20\n",
      "         205       0.47      0.54      0.50        13\n",
      "         206       0.80      0.71      0.75        17\n",
      "         207       0.60      0.67      0.63        18\n",
      "         208       0.86      0.38      0.52        16\n",
      "         209       0.36      0.89      0.52         9\n",
      "         210       0.67      0.50      0.57        12\n",
      "         211       0.70      0.54      0.61        13\n",
      "         212       0.57      0.57      0.57         7\n",
      "         213       0.57      0.36      0.44        11\n",
      "         214       0.28      0.72      0.40        18\n",
      "         215       0.78      0.70      0.74        10\n",
      "         216       0.52      0.55      0.53        22\n",
      "         217       1.00      0.80      0.89        15\n",
      "         218       0.50      0.57      0.53         7\n",
      "         219       0.43      0.33      0.38         9\n",
      "         220       0.67      0.40      0.50        10\n",
      "         221       1.00      0.25      0.40         4\n",
      "         222       0.67      0.43      0.52        14\n",
      "         223       1.00      0.75      0.86         8\n",
      "         224       1.00      0.25      0.40         4\n",
      "         225       1.00      0.60      0.75         5\n",
      "         226       0.67      0.67      0.67         3\n",
      "         227       0.27      0.30      0.29        10\n",
      "         228       0.17      0.29      0.21         7\n",
      "         229       0.40      0.50      0.44         8\n",
      "         230       0.50      0.73      0.59        11\n",
      "         231       0.62      0.45      0.53        11\n",
      "         232       0.40      0.67      0.50         6\n",
      "         233       0.80      0.67      0.73         6\n",
      "         234       0.27      0.80      0.40         5\n",
      "         235       0.50      0.50      0.50         4\n",
      "         236       0.90      0.75      0.82        12\n",
      "         237       0.11      0.25      0.15         8\n",
      "         238       0.33      0.31      0.32        13\n",
      "         239       0.29      0.29      0.29         7\n",
      "         240       0.75      1.00      0.86         6\n",
      "         241       0.62      0.71      0.67         7\n",
      "         242       0.73      0.73      0.73        11\n",
      "         243       0.50      0.57      0.53        14\n",
      "         244       0.56      0.31      0.40        16\n",
      "         245       0.67      0.25      0.36         8\n",
      "         246       1.00      0.33      0.50         9\n",
      "         247       0.54      0.88      0.67        17\n",
      "         248       0.71      0.63      0.67        19\n",
      "         249       1.00      0.17      0.29         6\n",
      "         250       1.00      0.56      0.71         9\n",
      "         253       1.00      1.00      1.00         5\n",
      "         254       1.00      1.00      1.00         1\n",
      "\n",
      "   micro avg       0.60      0.60      0.60      1250\n",
      "   macro avg       0.67      0.60      0.60      1250\n",
      "weighted avg       0.66      0.60      0.60      1250\n",
      "\n"
     ]
    }
   ],
   "source": [
    "#Make Predictions KNN\n",
    "KNN = KNeighborsClassifier()\n",
    "KNN.fit(X_train, Y_train)\n",
    "predictions = KNN.predict(X_test)\n",
    "predAccuracy = accuracy_score(Y_test,predictions)\n",
    "print('Accuracy: %.3f' % predAccuracy)\n",
    "print(confusion_matrix(Y_test, predictions))\n",
    "print(classification_report(Y_test, predictions))"
   ]
  },
  {
   "cell_type": "code",
   "execution_count": 37,
   "metadata": {},
   "outputs": [
    {
     "name": "stdout",
     "output_type": "stream",
     "text": [
      "Kappa: 0.590\n"
     ]
    }
   ],
   "source": [
    "KNN = KNeighborsClassifier()\n",
    "KNN.fit(X_train, Y_train)\n",
    "predictions = KNN.predict(X_test)\n",
    "predKappa = cohen_kappa_score(Y_test,predictions)\n",
    "print('Kappa: %.3f' % predKappa)"
   ]
  },
  {
   "cell_type": "code",
   "execution_count": 36,
   "metadata": {},
   "outputs": [
    {
     "name": "stdout",
     "output_type": "stream",
     "text": [
      "Accuracy: 0.113\n",
      "[[0 0 0 ... 0 0 0]\n",
      " [0 1 0 ... 0 0 0]\n",
      " [0 0 0 ... 0 0 0]\n",
      " ...\n",
      " [0 0 0 ... 1 0 0]\n",
      " [0 0 0 ... 0 0 0]\n",
      " [0 0 0 ... 0 0 0]]\n",
      "              precision    recall  f1-score   support\n",
      "\n",
      "           2       0.00      0.00      0.00         9\n",
      "           3       1.00      0.11      0.20         9\n",
      "           4       0.00      0.00      0.00         9\n",
      "           5       0.00      0.00      0.00         5\n",
      "           6       0.00      0.00      0.00         5\n",
      "           7       0.00      0.00      0.00         8\n",
      "           8       0.00      0.00      0.00        11\n",
      "           9       1.00      0.14      0.25        14\n",
      "          10       0.88      0.35      0.50        20\n",
      "          15       0.00      0.00      0.00         3\n",
      "          16       0.00      0.00      0.00         1\n",
      "          17       0.00      0.00      0.00         4\n",
      "          18       0.00      0.00      0.00         3\n",
      "          22       1.00      0.33      0.50         3\n",
      "          26       0.00      0.00      0.00         3\n",
      "          27       0.00      0.00      0.00         2\n",
      "          28       0.00      0.00      0.00         6\n",
      "          29       0.00      0.00      0.00         9\n",
      "         101       0.50      0.04      0.08        23\n",
      "         102       0.60      0.10      0.18        29\n",
      "         103       0.67      0.06      0.12        31\n",
      "         104       1.00      0.05      0.10        20\n",
      "         105       0.50      0.07      0.12        14\n",
      "         106       1.00      0.04      0.08        24\n",
      "         107       1.00      0.22      0.36        18\n",
      "         108       1.00      0.05      0.10        19\n",
      "         109       1.00      0.05      0.09        22\n",
      "         110       0.00      0.00      0.00        20\n",
      "         111       0.75      0.27      0.40        11\n",
      "         112       1.00      0.15      0.26        27\n",
      "         113       0.19      0.27      0.22        11\n",
      "         114       1.00      0.17      0.29        12\n",
      "         115       0.00      0.00      0.00         6\n",
      "         116       0.00      0.00      0.00        14\n",
      "         117       0.00      0.00      0.00         9\n",
      "         118       0.00      0.00      0.00         8\n",
      "         119       0.00      0.00      0.00         7\n",
      "         120       1.00      0.08      0.15        12\n",
      "         121       0.00      0.00      0.00        10\n",
      "         122       1.00      0.09      0.17        11\n",
      "         123       1.00      0.50      0.67         4\n",
      "         124       0.00      0.00      0.00        12\n",
      "         125       0.00      0.00      0.00         8\n",
      "         126       0.00      0.00      0.00         8\n",
      "         127       1.00      0.10      0.18        10\n",
      "         128       0.00      0.00      0.00        11\n",
      "         129       1.00      0.20      0.33        10\n",
      "         130       1.00      0.12      0.22         8\n",
      "         131       0.00      0.00      0.00        10\n",
      "         132       0.00      0.00      0.00         7\n",
      "         133       1.00      0.08      0.14        13\n",
      "         134       0.00      0.00      0.00         9\n",
      "         135       0.00      0.00      0.00        10\n",
      "         136       0.00      0.00      0.00        13\n",
      "         137       0.00      0.00      0.00         8\n",
      "         138       0.00      0.00      0.00         3\n",
      "         139       0.00      0.00      0.00         1\n",
      "         140       0.00      0.00      0.00         9\n",
      "         141       1.00      0.21      0.35        14\n",
      "         143       0.00      0.00      0.00        14\n",
      "         146       1.00      0.50      0.67         4\n",
      "         147       1.00      0.50      0.67         2\n",
      "         201       1.00      0.03      0.06        30\n",
      "         202       0.03      1.00      0.06        32\n",
      "         203       1.00      0.06      0.11        17\n",
      "         204       0.75      0.15      0.25        20\n",
      "         205       0.00      0.00      0.00        13\n",
      "         206       1.00      0.06      0.11        17\n",
      "         207       1.00      0.06      0.11        18\n",
      "         208       1.00      0.12      0.22        16\n",
      "         209       1.00      0.11      0.20         9\n",
      "         210       1.00      0.17      0.29        12\n",
      "         211       1.00      0.08      0.14        13\n",
      "         212       1.00      0.14      0.25         7\n",
      "         213       1.00      0.18      0.31        11\n",
      "         214       1.00      0.17      0.29        18\n",
      "         215       1.00      0.10      0.18        10\n",
      "         216       1.00      0.05      0.09        22\n",
      "         217       1.00      0.07      0.12        15\n",
      "         218       0.00      0.00      0.00         7\n",
      "         219       0.00      0.00      0.00         9\n",
      "         220       1.00      0.30      0.46        10\n",
      "         221       1.00      0.25      0.40         4\n",
      "         222       0.00      0.00      0.00        14\n",
      "         223       0.00      0.00      0.00         8\n",
      "         224       0.00      0.00      0.00         4\n",
      "         225       1.00      0.20      0.33         5\n",
      "         226       0.00      0.00      0.00         3\n",
      "         227       0.67      0.20      0.31        10\n",
      "         228       1.00      0.29      0.44         7\n",
      "         229       0.40      0.25      0.31         8\n",
      "         230       0.29      0.18      0.22        11\n",
      "         231       0.50      0.09      0.15        11\n",
      "         232       1.00      0.33      0.50         6\n",
      "         233       0.00      0.00      0.00         6\n",
      "         234       1.00      0.40      0.57         5\n",
      "         235       0.00      0.00      0.00         4\n",
      "         236       1.00      0.17      0.29        12\n",
      "         237       0.25      0.12      0.17         8\n",
      "         238       0.44      0.31      0.36        13\n",
      "         239       0.00      0.00      0.00         7\n",
      "         240       1.00      0.33      0.50         6\n",
      "         241       1.00      0.14      0.25         7\n",
      "         242       0.00      0.00      0.00        11\n",
      "         243       0.00      0.00      0.00        14\n",
      "         244       0.50      0.06      0.11        16\n",
      "         245       0.50      0.12      0.20         8\n",
      "         246       0.00      0.00      0.00         9\n",
      "         247       1.00      0.18      0.30        17\n",
      "         248       0.00      0.00      0.00        19\n",
      "         249       0.00      0.00      0.00         6\n",
      "         250       1.00      0.11      0.20         9\n",
      "         253       0.00      0.00      0.00         5\n",
      "         254       0.00      0.00      0.00         1\n",
      "\n",
      "   micro avg       0.11      0.11      0.11      1250\n",
      "   macro avg       0.47      0.10      0.14      1250\n",
      "weighted avg       0.56      0.11      0.14      1250\n",
      "\n"
     ]
    }
   ],
   "source": [
    "SVC = SVC()\n",
    "SVC.fit(X_train, Y_train)\n",
    "predictions = SVC.predict(X_test)\n",
    "predAccuracy = accuracy_score(Y_test,predictions)\n",
    "print('Accuracy: %.3f' % predAccuracy)\n",
    "print(confusion_matrix(Y_test, predictions))\n",
    "print(classification_report(Y_test, predictions))"
   ]
  },
  {
   "cell_type": "code",
   "execution_count": 38,
   "metadata": {},
   "outputs": [
    {
     "name": "stdout",
     "output_type": "stream",
     "text": [
      "Kappa: 0.590\n"
     ]
    }
   ],
   "source": [
    "SVC = KNeighborsClassifier()\n",
    "SVC.fit(X_train, Y_train)\n",
    "predictions = SVC.predict(X_test)\n",
    "predKappa = cohen_kappa_score(Y_test,predictions)\n",
    "print('Kappa: %.3f' % predKappa)"
   ]
  },
  {
   "cell_type": "code",
   "execution_count": 39,
   "metadata": {},
   "outputs": [
    {
     "name": "stdout",
     "output_type": "stream",
     "text": [
      "Accuracy: 0.523\n",
      "[[6 0 0 ... 0 0 0]\n",
      " [2 6 0 ... 0 0 0]\n",
      " [1 1 4 ... 0 0 0]\n",
      " ...\n",
      " [0 0 0 ... 5 0 0]\n",
      " [0 0 0 ... 0 3 0]\n",
      " [0 0 0 ... 0 0 1]]\n",
      "              precision    recall  f1-score   support\n",
      "\n",
      "           2       0.55      0.67      0.60         9\n",
      "           3       0.86      0.67      0.75         9\n",
      "           4       0.67      0.44      0.53         9\n",
      "           5       0.67      0.40      0.50         5\n",
      "           6       0.71      1.00      0.83         5\n",
      "           7       0.86      0.75      0.80         8\n",
      "           8       0.55      0.55      0.55        11\n",
      "           9       0.50      0.50      0.50        14\n",
      "          10       0.70      0.80      0.74        20\n",
      "          15       0.50      0.67      0.57         3\n",
      "          16       0.00      0.00      0.00         1\n",
      "          17       0.50      0.50      0.50         4\n",
      "          18       0.50      0.33      0.40         3\n",
      "          22       0.50      0.67      0.57         3\n",
      "          26       0.67      0.67      0.67         3\n",
      "          27       0.50      0.50      0.50         2\n",
      "          28       1.00      0.83      0.91         6\n",
      "          29       0.83      0.56      0.67         9\n",
      "         101       0.45      0.61      0.52        23\n",
      "         102       0.68      0.45      0.54        29\n",
      "         103       0.61      0.35      0.45        31\n",
      "         104       0.50      0.55      0.52        20\n",
      "         105       0.35      0.64      0.45        14\n",
      "         106       0.70      0.67      0.68        24\n",
      "         107       0.61      0.78      0.68        18\n",
      "         108       0.27      0.32      0.29        19\n",
      "         109       0.47      0.36      0.41        22\n",
      "         110       0.78      0.35      0.48        20\n",
      "         111       0.39      0.64      0.48        11\n",
      "         112       0.76      0.70      0.73        27\n",
      "         113       0.23      0.55      0.32        11\n",
      "         114       0.83      0.42      0.56        12\n",
      "         115       0.14      0.17      0.15         6\n",
      "         116       0.42      0.36      0.38        14\n",
      "         117       0.25      0.22      0.24         9\n",
      "         118       0.12      0.12      0.12         8\n",
      "         119       0.33      0.43      0.38         7\n",
      "         120       0.31      0.42      0.36        12\n",
      "         121       0.40      0.60      0.48        10\n",
      "         122       0.29      0.55      0.37        11\n",
      "         123       0.43      0.75      0.55         4\n",
      "         124       0.44      0.33      0.38        12\n",
      "         125       0.30      0.38      0.33         8\n",
      "         126       0.60      0.38      0.46         8\n",
      "         127       0.83      0.50      0.62        10\n",
      "         128       0.50      0.55      0.52        11\n",
      "         129       0.31      0.40      0.35        10\n",
      "         130       1.00      0.75      0.86         8\n",
      "         131       0.88      0.70      0.78        10\n",
      "         132       0.83      0.71      0.77         7\n",
      "         133       0.50      0.54      0.52        13\n",
      "         134       0.40      0.44      0.42         9\n",
      "         135       0.83      0.50      0.62        10\n",
      "         136       1.00      0.69      0.82        13\n",
      "         137       0.67      0.50      0.57         8\n",
      "         138       1.00      0.67      0.80         3\n",
      "         139       0.50      1.00      0.67         1\n",
      "         140       0.56      0.56      0.56         9\n",
      "         141       0.86      0.43      0.57        14\n",
      "         143       0.53      0.64      0.58        14\n",
      "         146       1.00      0.50      0.67         4\n",
      "         147       0.50      0.50      0.50         2\n",
      "         201       0.57      0.40      0.47        30\n",
      "         202       0.58      0.66      0.62        32\n",
      "         203       0.35      0.35      0.35        17\n",
      "         204       0.45      0.50      0.48        20\n",
      "         205       0.50      0.62      0.55        13\n",
      "         206       0.72      0.76      0.74        17\n",
      "         207       0.67      0.44      0.53        18\n",
      "         208       0.56      0.62      0.59        16\n",
      "         209       0.44      0.78      0.56         9\n",
      "         210       0.41      0.58      0.48        12\n",
      "         211       0.54      0.54      0.54        13\n",
      "         212       0.25      0.43      0.32         7\n",
      "         213       0.39      0.64      0.48        11\n",
      "         214       0.50      0.28      0.36        18\n",
      "         215       0.35      0.70      0.47        10\n",
      "         216       0.33      0.32      0.33        22\n",
      "         217       0.69      0.60      0.64        15\n",
      "         218       0.33      0.14      0.20         7\n",
      "         219       0.50      0.44      0.47         9\n",
      "         220       0.50      0.50      0.50        10\n",
      "         221       1.00      0.25      0.40         4\n",
      "         222       0.75      0.43      0.55        14\n",
      "         223       1.00      0.62      0.77         8\n",
      "         224       0.33      0.25      0.29         4\n",
      "         225       1.00      0.20      0.33         5\n",
      "         226       0.00      0.00      0.00         3\n",
      "         227       0.25      0.20      0.22        10\n",
      "         228       0.36      0.57      0.44         7\n",
      "         229       0.38      0.38      0.38         8\n",
      "         230       0.54      0.64      0.58        11\n",
      "         231       0.50      0.55      0.52        11\n",
      "         232       0.40      0.67      0.50         6\n",
      "         233       0.67      0.67      0.67         6\n",
      "         234       0.50      0.80      0.62         5\n",
      "         235       0.33      0.50      0.40         4\n",
      "         236       0.63      1.00      0.77        12\n",
      "         237       0.57      0.50      0.53         8\n",
      "         238       0.43      0.46      0.44        13\n",
      "         239       0.29      0.29      0.29         7\n",
      "         240       1.00      0.67      0.80         6\n",
      "         241       0.43      0.43      0.43         7\n",
      "         242       0.67      0.73      0.70        11\n",
      "         243       0.67      0.57      0.62        14\n",
      "         244       0.44      0.44      0.44        16\n",
      "         245       0.40      0.50      0.44         8\n",
      "         246       0.50      0.33      0.40         9\n",
      "         247       0.71      0.71      0.71        17\n",
      "         248       0.83      0.53      0.65        19\n",
      "         249       0.33      0.17      0.22         6\n",
      "         250       1.00      0.56      0.71         9\n",
      "         253       1.00      0.60      0.75         5\n",
      "         254       1.00      1.00      1.00         1\n",
      "\n",
      "   micro avg       0.52      0.52      0.52      1250\n",
      "   macro avg       0.56      0.52      0.52      1250\n",
      "weighted avg       0.57      0.52      0.53      1250\n",
      "\n"
     ]
    }
   ],
   "source": [
    "LR = LogisticRegression()\n",
    "LR.fit(X_train, Y_train)\n",
    "predictions = LR.predict(X_test)\n",
    "predAccuracy = accuracy_score(Y_test,predictions)\n",
    "print('Accuracy: %.3f' % predAccuracy)\n",
    "print(confusion_matrix(Y_test, predictions))\n",
    "print(classification_report(Y_test, predictions))"
   ]
  },
  {
   "cell_type": "code",
   "execution_count": 40,
   "metadata": {},
   "outputs": [
    {
     "name": "stdout",
     "output_type": "stream",
     "text": [
      "Kappa: 0.590\n"
     ]
    }
   ],
   "source": [
    "LR = KNeighborsClassifier()\n",
    "LR.fit(X_train, Y_train)\n",
    "predictions = LR.predict(X_test)\n",
    "predKappa = cohen_kappa_score(Y_test,predictions)\n",
    "print('Kappa: %.3f' % predKappa)"
   ]
  },
  {
   "cell_type": "markdown",
   "metadata": {},
   "source": [
    "# Results"
   ]
  },
  {
   "cell_type": "markdown",
   "metadata": {},
   "source": [
    "RF\n",
    "Accuracy: 0.727\n",
    "Kappa: 0.722\n",
    "\n",
    "KNN\n",
    "Accuracy: 0.595\n",
    "Kappa: 0.590\n",
    "\n",
    "SVC\n",
    "Accuracy: 0.113\n",
    "Kappa: 0.590\n",
    "\n",
    "LR\n",
    "Accuracy: 0.523\n",
    "Kappa: 0.590"
   ]
  }
 ],
 "metadata": {
  "kernelspec": {
   "display_name": "Python 3",
   "language": "python",
   "name": "python3"
  },
  "language_info": {
   "codemirror_mode": {
    "name": "ipython",
    "version": 3
   },
   "file_extension": ".py",
   "mimetype": "text/x-python",
   "name": "python",
   "nbconvert_exporter": "python",
   "pygments_lexer": "ipython3",
   "version": "3.6.5"
  }
 },
 "nbformat": 4,
 "nbformat_minor": 2
}
