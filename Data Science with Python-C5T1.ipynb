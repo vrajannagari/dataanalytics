{
 "cells": [
  {
   "cell_type": "code",
   "execution_count": 39,
   "metadata": {},
   "outputs": [],
   "source": [
    "import math as mt"
   ]
  },
  {
   "cell_type": "code",
   "execution_count": 2,
   "metadata": {},
   "outputs": [
    {
     "data": {
      "text/plain": [
       "5.0"
      ]
     },
     "execution_count": 2,
     "metadata": {},
     "output_type": "execute_result"
    }
   ],
   "source": [
    "mt.sqrt(25)"
   ]
  },
  {
   "cell_type": "code",
   "execution_count": 4,
   "metadata": {},
   "outputs": [
    {
     "data": {
      "text/plain": [
       "3.141592653589793"
      ]
     },
     "execution_count": 4,
     "metadata": {},
     "output_type": "execute_result"
    }
   ],
   "source": [
    "mt.pi"
   ]
  },
  {
   "cell_type": "code",
   "execution_count": 5,
   "metadata": {},
   "outputs": [],
   "source": [
    "import numpy as np"
   ]
  },
  {
   "cell_type": "code",
   "execution_count": 6,
   "metadata": {},
   "outputs": [],
   "source": [
    "from numpy import random"
   ]
  },
  {
   "cell_type": "code",
   "execution_count": 7,
   "metadata": {},
   "outputs": [],
   "source": [
    "import numpy as np"
   ]
  },
  {
   "cell_type": "code",
   "execution_count": 13,
   "metadata": {},
   "outputs": [],
   "source": [
    "# uniform random numbers in [0,1]\n",
    "dataOne = random.rand(5,5)"
   ]
  },
  {
   "cell_type": "code",
   "execution_count": 14,
   "metadata": {},
   "outputs": [
    {
     "data": {
      "text/plain": [
       "array([[0.25964415, 0.29979403, 0.07185557, 0.50255081, 0.97673272],\n",
       "       [0.23152441, 0.23942028, 0.1393433 , 0.48526504, 0.61370433],\n",
       "       [0.91397279, 0.71820543, 0.90688785, 0.76117953, 0.64394904],\n",
       "       [0.9609539 , 0.62833968, 0.16453212, 0.21845723, 0.64806691],\n",
       "       [0.01650345, 0.1098465 , 0.43599059, 0.03796768, 0.8245777 ]])"
      ]
     },
     "execution_count": 14,
     "metadata": {},
     "output_type": "execute_result"
    }
   ],
   "source": [
    "dataOne"
   ]
  },
  {
   "cell_type": "code",
   "execution_count": 10,
   "metadata": {},
   "outputs": [
    {
     "data": {
      "text/plain": [
       "0.5923472349425779"
      ]
     },
     "execution_count": 10,
     "metadata": {},
     "output_type": "execute_result"
    }
   ],
   "source": [
    "np.mean(dataOne)"
   ]
  },
  {
   "cell_type": "markdown",
   "metadata": {},
   "source": [
    "# Now it is your turn! Use three predefined functions with math and stats to obtain information about the data stored in the numpy array; note any issues you encounter along the way as comments in your notebook. These will serve you well later as lesson learned that you have documented and can reference."
   ]
  },
  {
   "cell_type": "code",
   "execution_count": 12,
   "metadata": {},
   "outputs": [],
   "source": [
    "from scipy import stats\n",
    "import math as mt"
   ]
  },
  {
   "cell_type": "code",
   "execution_count": 32,
   "metadata": {
    "scrolled": true
   },
   "outputs": [],
   "source": [
    "a=dataOne"
   ]
  },
  {
   "cell_type": "code",
   "execution_count": 47,
   "metadata": {},
   "outputs": [
    {
     "name": "stdout",
     "output_type": "stream",
     "text": [
      "ModeResult(mode=array([[0.01650345, 0.1098465 , 0.07185557, 0.03796768, 0.61370433]]), count=array([[1, 1, 1, 1, 1]]))\n",
      "[[0.01650345 0.1098465  0.07185557 0.03796768 0.61370433]]\n"
     ]
    }
   ],
   "source": [
    "#Returns the modal value\n",
    "m=stats.mode(a)\n",
    "print(m)\n",
    "print(m[0])"
   ]
  },
  {
   "cell_type": "code",
   "execution_count": 43,
   "metadata": {},
   "outputs": [
    {
     "data": {
      "text/plain": [
       "DescribeResult(nobs=5, minmax=(array([0.01650345, 0.1098465 , 0.07185557, 0.03796768, 0.61370433]), array([0.9609539 , 0.71820543, 0.90688785, 0.76117953, 0.97673272])), mean=array([0.47651974, 0.39912118, 0.34372189, 0.40108406, 0.74140614]), variance=array([0.18617859, 0.0683515 , 0.11836507, 0.07806419, 0.02420349]), skewness=array([ 0.26146131,  0.23886458,  0.99532428, -0.07221119,  0.72641533]), kurtosis=array([-1.71718601, -1.60356475, -0.57100423, -1.18121114, -1.1080133 ]))"
      ]
     },
     "execution_count": 43,
     "metadata": {},
     "output_type": "execute_result"
    }
   ],
   "source": [
    "#Computes several descriptive statistics of the passed array\n",
    "stats.describe(a)"
   ]
  },
  {
   "cell_type": "code",
   "execution_count": 44,
   "metadata": {
    "scrolled": true
   },
   "outputs": [
    {
     "data": {
      "text/plain": [
       "array([0.24436398, 0.32377451, 0.23055024, 0.2738327 , 0.7292687 ])"
      ]
     },
     "execution_count": 44,
     "metadata": {},
     "output_type": "execute_result"
    }
   ],
   "source": [
    "#Computes geometric mean along the specified axis\n",
    "stats.gmean(a)"
   ]
  },
  {
   "cell_type": "code",
   "execution_count": 48,
   "metadata": {
    "scrolled": true
   },
   "outputs": [
    {
     "data": {
      "text/plain": [
       "array([[-0.56195407, -0.42476525, -0.88348387,  0.40602506,  1.69116896],\n",
       "       [-0.63481613, -0.68294915, -0.66416903,  0.33685505, -0.91772607],\n",
       "       [ 1.13350017,  1.36454026,  1.83012023,  1.44094282, -0.70037315],\n",
       "       [ 1.2552346 ,  0.98023603, -0.58231291, -0.7307918 , -0.67078019],\n",
       "       [-1.19196458, -1.2370619 ,  0.29984558, -1.45303113,  0.59771045]])"
      ]
     },
     "execution_count": 48,
     "metadata": {},
     "output_type": "execute_result"
    }
   ],
   "source": [
    "#Calculates the z score of each value in the sample, relative to the sample mean and standard deviation\n",
    "stats.zscore(a)"
   ]
  },
  {
   "cell_type": "code",
   "execution_count": 76,
   "metadata": {
    "scrolled": true
   },
   "outputs": [
    {
     "name": "stdout",
     "output_type": "stream",
     "text": [
      "sin(a1) = \n",
      " [0.2567366428641366, 0.29532343182702436, 0.07179375240363545, 0.4816625207047228, 0.8286729922394075]\n"
     ]
    }
   ],
   "source": [
    "a1=dataOne[0]\n",
    "print(\"sin(a1) = \\n\", [mt.sin(x) for x in a1])"
   ]
  },
  {
   "cell_type": "code",
   "execution_count": 79,
   "metadata": {},
   "outputs": [
    {
     "ename": "AttributeError",
     "evalue": "module 'math' has no attribute 'mean'",
     "output_type": "error",
     "traceback": [
      "\u001b[0;31m---------------------------------------------------------------------------\u001b[0m",
      "\u001b[0;31mAttributeError\u001b[0m                            Traceback (most recent call last)",
      "\u001b[0;32m<ipython-input-79-8fc8838b2fa0>\u001b[0m in \u001b[0;36m<module>\u001b[0;34m()\u001b[0m\n\u001b[0;32m----> 1\u001b[0;31m \u001b[0mmt\u001b[0m\u001b[0;34m.\u001b[0m\u001b[0mmean\u001b[0m\u001b[0;34m(\u001b[0m\u001b[0ma1\u001b[0m\u001b[0;34m)\u001b[0m\u001b[0;34m\u001b[0m\u001b[0m\n\u001b[0m",
      "\u001b[0;31mAttributeError\u001b[0m: module 'math' has no attribute 'mean'"
     ]
    }
   ],
   "source": []
  },
  {
   "cell_type": "code",
   "execution_count": null,
   "metadata": {},
   "outputs": [],
   "source": []
  },
  {
   "cell_type": "code",
   "execution_count": null,
   "metadata": {},
   "outputs": [],
   "source": []
  },
  {
   "cell_type": "code",
   "execution_count": 54,
   "metadata": {},
   "outputs": [
    {
     "ename": "NameError",
     "evalue": "name 'functionname' is not defined",
     "output_type": "error",
     "traceback": [
      "\u001b[0;31m---------------------------------------------------------------------------\u001b[0m",
      "\u001b[0;31mNameError\u001b[0m                                 Traceback (most recent call last)",
      "\u001b[0;32m<ipython-input-54-8e27e426419a>\u001b[0m in \u001b[0;36m<module>\u001b[0;34m()\u001b[0m\n\u001b[0;32m----> 1\u001b[0;31m \u001b[0mfunctionname\u001b[0m\u001b[0;34m(\u001b[0m\u001b[0;34m)\u001b[0m\u001b[0;34m\u001b[0m\u001b[0m\n\u001b[0m",
      "\u001b[0;31mNameError\u001b[0m: name 'functionname' is not defined"
     ]
    }
   ],
   "source": [
    "functionname()"
   ]
  },
  {
   "cell_type": "code",
   "execution_count": 55,
   "metadata": {},
   "outputs": [
    {
     "name": "stdout",
     "output_type": "stream",
     "text": [
      "I Love Data Science\n"
     ]
    }
   ],
   "source": [
    "print('I Love Data Science')"
   ]
  },
  {
   "cell_type": "code",
   "execution_count": 56,
   "metadata": {},
   "outputs": [],
   "source": [
    "variablename =25"
   ]
  },
  {
   "cell_type": "code",
   "execution_count": 57,
   "metadata": {},
   "outputs": [],
   "source": [
    "variableName1= 'I Love Data Science'"
   ]
  },
  {
   "cell_type": "code",
   "execution_count": 58,
   "metadata": {},
   "outputs": [
    {
     "name": "stdout",
     "output_type": "stream",
     "text": [
      "25\n",
      "I Love Data Science\n"
     ]
    }
   ],
   "source": [
    "print(variablename)\n",
    "print(variableName1)"
   ]
  },
  {
   "cell_type": "code",
   "execution_count": 60,
   "metadata": {},
   "outputs": [
    {
     "data": {
      "text/plain": [
       "int"
      ]
     },
     "execution_count": 60,
     "metadata": {},
     "output_type": "execute_result"
    }
   ],
   "source": [
    "type(variablename)"
   ]
  },
  {
   "cell_type": "code",
   "execution_count": 61,
   "metadata": {},
   "outputs": [
    {
     "data": {
      "text/plain": [
       "str"
      ]
     },
     "execution_count": 61,
     "metadata": {},
     "output_type": "execute_result"
    }
   ],
   "source": [
    "type(variableName1)"
   ]
  },
  {
   "cell_type": "code",
   "execution_count": 67,
   "metadata": {},
   "outputs": [
    {
     "data": {
      "text/plain": [
       "float"
      ]
     },
     "execution_count": 67,
     "metadata": {},
     "output_type": "execute_result"
    }
   ],
   "source": [
    "variablename =25.0\n",
    "type(variablename)"
   ]
  },
  {
   "cell_type": "code",
   "execution_count": 68,
   "metadata": {},
   "outputs": [],
   "source": [
    "varOne=25"
   ]
  },
  {
   "cell_type": "code",
   "execution_count": 69,
   "metadata": {},
   "outputs": [],
   "source": [
    "varTwo = 25.0"
   ]
  },
  {
   "cell_type": "code",
   "execution_count": 70,
   "metadata": {
    "scrolled": true
   },
   "outputs": [
    {
     "name": "stdout",
     "output_type": "stream",
     "text": [
      "50.0\n"
     ]
    }
   ],
   "source": [
    "varThree = varOne + varTwo\n",
    "print(varThree)"
   ]
  },
  {
   "cell_type": "code",
   "execution_count": 73,
   "metadata": {},
   "outputs": [],
   "source": [
    "varTwo= 'Hello'"
   ]
  },
  {
   "cell_type": "code",
   "execution_count": 81,
   "metadata": {
    "scrolled": true
   },
   "outputs": [
    {
     "ename": "TypeError",
     "evalue": "unsupported operand type(s) for +: 'int' and 'str'",
     "output_type": "error",
     "traceback": [
      "\u001b[0;31m---------------------------------------------------------------------------\u001b[0m",
      "\u001b[0;31mTypeError\u001b[0m                                 Traceback (most recent call last)",
      "\u001b[0;32m<ipython-input-81-19f9736b6a23>\u001b[0m in \u001b[0;36m<module>\u001b[0;34m()\u001b[0m\n\u001b[0;32m----> 1\u001b[0;31m \u001b[0mvarThree\u001b[0m \u001b[0;34m=\u001b[0m \u001b[0mvarOne\u001b[0m \u001b[0;34m+\u001b[0m \u001b[0mvarTwo\u001b[0m\u001b[0;34m\u001b[0m\u001b[0m\n\u001b[0m\u001b[1;32m      2\u001b[0m \u001b[0mprint\u001b[0m\u001b[0;34m(\u001b[0m\u001b[0mvarThree\u001b[0m\u001b[0;34m)\u001b[0m\u001b[0;34m\u001b[0m\u001b[0m\n\u001b[1;32m      3\u001b[0m \u001b[0;34m\u001b[0m\u001b[0m\n\u001b[1;32m      4\u001b[0m \u001b[0;31m#TypeError: unsupported operand type(s) for +: 'int' and 'str'\u001b[0m\u001b[0;34m\u001b[0m\u001b[0;34m\u001b[0m\u001b[0m\n\u001b[1;32m      5\u001b[0m \u001b[0;31m#https://pythonspot.com/datatype-casting/\u001b[0m\u001b[0;34m\u001b[0m\u001b[0;34m\u001b[0m\u001b[0m\n",
      "\u001b[0;31mTypeError\u001b[0m: unsupported operand type(s) for +: 'int' and 'str'"
     ]
    }
   ],
   "source": [
    "varThree = varOne + varTwo\n",
    "print(varThree)\n",
    "\n",
    "#TypeError: unsupported operand type(s) for +: 'int' and 'str'\n",
    "#https://pythonspot.com/datatype-casting/"
   ]
  },
  {
   "cell_type": "code",
   "execution_count": 83,
   "metadata": {
    "scrolled": true
   },
   "outputs": [
    {
     "name": "stdout",
     "output_type": "stream",
     "text": [
      "25Hello\n"
     ]
    }
   ],
   "source": [
    "#TypeError: unsupported operand type(s) for +: 'int' and 'str'\n",
    "# print only accepts the string datatype.\n",
    "##Refer to this page for more info on Datatype casting\n",
    "# https://pythonspot.com/datatype-casting/\n",
    "#https://www.geeksforgeeks.org/type-conversion-python/\n",
    "\n",
    "varThree = str(varOne) + varTwo\n",
    "print(varThree)"
   ]
  },
  {
   "cell_type": "code",
   "execution_count": null,
   "metadata": {},
   "outputs": [],
   "source": [
    "listName = []"
   ]
  },
  {
   "cell_type": "code",
   "execution_count": 85,
   "metadata": {},
   "outputs": [],
   "source": [
    "listOne = [1,2,3,4]\n",
    "#The numbers in the brackets are called elements. Each element can be of any type and can be referenced by their index"
   ]
  },
  {
   "cell_type": "code",
   "execution_count": 86,
   "metadata": {},
   "outputs": [
    {
     "name": "stdout",
     "output_type": "stream",
     "text": [
      "[2, 3]\n"
     ]
    }
   ],
   "source": [
    "print(listOne[1:3])\n",
    "#This returns the second and third element in the list [2 ,3]; note that the indexes begin at 0 so [0:2] will return [1, 2]"
   ]
  },
  {
   "cell_type": "code",
   "execution_count": 87,
   "metadata": {},
   "outputs": [],
   "source": [
    "tel = {'jack': 4098, 'sape': 4139}"
   ]
  },
  {
   "cell_type": "code",
   "execution_count": 88,
   "metadata": {},
   "outputs": [
    {
     "data": {
      "text/plain": [
       "4098"
      ]
     },
     "execution_count": 88,
     "metadata": {},
     "output_type": "execute_result"
    }
   ],
   "source": [
    "tel['jack']"
   ]
  },
  {
   "cell_type": "code",
   "execution_count": 105,
   "metadata": {},
   "outputs": [],
   "source": [
    "#Define a variable that represents a dictionary with 5 INT elements\n",
    "fivint = {'vj': 237, 'rv': 203, 'sr' : 405, 'joe' :101 ,'jess': 0}"
   ]
  },
  {
   "cell_type": "code",
   "execution_count": 90,
   "metadata": {},
   "outputs": [
    {
     "data": {
      "text/plain": [
       "237"
      ]
     },
     "execution_count": 90,
     "metadata": {},
     "output_type": "execute_result"
    }
   ],
   "source": [
    "fivint['vj']"
   ]
  },
  {
   "cell_type": "markdown",
   "metadata": {},
   "source": [
    "# Use functions from the math module to perform three different math operations on three of the five elements; you may find it easier to define variables for the elements. Feel free to combine elements as needed. #Lastly, print out you results separately.\n"
   ]
  },
  {
   "cell_type": "code",
   "execution_count": 106,
   "metadata": {},
   "outputs": [],
   "source": [
    "vj=fivint['vj']\n",
    "rv =fivint['rv']\n",
    "sr=fivint['sr']\n",
    "joe=fivint['joe']\n",
    "jess=fivint['jess']"
   ]
  },
  {
   "cell_type": "code",
   "execution_count": 111,
   "metadata": {
    "scrolled": true
   },
   "outputs": [
    {
     "data": {
      "text/plain": [
       "237.0"
      ]
     },
     "execution_count": 111,
     "metadata": {},
     "output_type": "execute_result"
    }
   ],
   "source": [
    "mt.fabs(vj)\n",
    "#Return the absolute value of x."
   ]
  },
  {
   "cell_type": "code",
   "execution_count": 108,
   "metadata": {},
   "outputs": [
    {
     "data": {
      "text/plain": [
       "237"
      ]
     },
     "execution_count": 108,
     "metadata": {},
     "output_type": "execute_result"
    }
   ],
   "source": [
    "mt.trunc(vj)\n",
    "#Return the Real value x truncated to an Integral (usually an integer)."
   ]
  },
  {
   "cell_type": "code",
   "execution_count": 109,
   "metadata": {},
   "outputs": [
    {
     "data": {
      "text/plain": [
       "True"
      ]
     },
     "execution_count": 109,
     "metadata": {},
     "output_type": "execute_result"
    }
   ],
   "source": [
    "mt.isfinite(vj)\n",
    "#Return True if x is neither an infinity nor a NaN, and False otherwise. (Note that 0.0 is considered finite.)"
   ]
  },
  {
   "cell_type": "code",
   "execution_count": 110,
   "metadata": {},
   "outputs": [
    {
     "data": {
      "text/plain": [
       "297976905673664935047816526719560179419093566446241572177911873782676338657629325036120150027567927385041320207173776316112533845790828129808740140341588672218544752564381505087410826234304248359063246670539274917998749482684890734236332214086176076308821914543172491163329091874698705047455860455252985775559487256924098658333601938809292553392248924659865897822485158978199509626479821986381518730166272000000000000000000000000000000000000000000000000000000000"
      ]
     },
     "execution_count": 110,
     "metadata": {},
     "output_type": "execute_result"
    }
   ],
   "source": [
    "mt.factorial(vj)\n",
    "#Return x factorial."
   ]
  },
  {
   "cell_type": "code",
   "execution_count": 112,
   "metadata": {},
   "outputs": [
    {
     "data": {
      "text/plain": [
       "405"
      ]
     },
     "execution_count": 112,
     "metadata": {},
     "output_type": "execute_result"
    }
   ],
   "source": [
    "mt.trunc(sr)\n",
    "#Return the Real value x truncated to an Integral (usually an integer)."
   ]
  },
  {
   "cell_type": "code",
   "execution_count": 113,
   "metadata": {},
   "outputs": [
    {
     "data": {
      "text/plain": [
       "True"
      ]
     },
     "execution_count": 113,
     "metadata": {},
     "output_type": "execute_result"
    }
   ],
   "source": [
    "mt.isfinite(sr)\n",
    "#Return True if x is neither an infinity nor a NaN, and False otherwise. (Note that 0.0 is considered finite.)"
   ]
  },
  {
   "cell_type": "code",
   "execution_count": 114,
   "metadata": {},
   "outputs": [
    {
     "data": {
      "text/plain": [
       "680653430795508222449215242344688836073772491351993243108104021529172862296618381671146763288197909957987968655945984203282734249489713804927338956555174337630247550281760920826142162578635607580071998286010058821506749545567724090026130884819510677024442778521339972820054862416684684727562940219165453539811395785181379143617266753639486247164299169997093333186300366570950105712514667409176782891454358338435635561336438008820107692077791906804482678565592846760727615700936666392463771968231848050393624243116362681216952269743662286334246519620571045875191829388523307795334877258281501232741715196988134164879819386274040667891134790080117596714717431878335432959042050183867570825629458143442813382995883283677184758453052929044905714920488418950338331979495316873916721397760000000000000000000000000000000000000000000000000000000000000000000000000000000000000000000000000000"
      ]
     },
     "execution_count": 114,
     "metadata": {},
     "output_type": "execute_result"
    }
   ],
   "source": [
    "mt.factorial(sr)\n",
    "#Return x factorial."
   ]
  },
  {
   "cell_type": "code",
   "execution_count": 115,
   "metadata": {},
   "outputs": [
    {
     "data": {
      "text/plain": [
       "101"
      ]
     },
     "execution_count": 115,
     "metadata": {},
     "output_type": "execute_result"
    }
   ],
   "source": [
    "mt.trunc(joe)\n",
    "#Return the Real value x truncated to an Integral (usually an integer)."
   ]
  },
  {
   "cell_type": "code",
   "execution_count": 116,
   "metadata": {},
   "outputs": [
    {
     "data": {
      "text/plain": [
       "True"
      ]
     },
     "execution_count": 116,
     "metadata": {},
     "output_type": "execute_result"
    }
   ],
   "source": [
    "mt.isfinite(joe)\n",
    "#Return True if x is neither an infinity nor a NaN, and False otherwise. (Note that 0.0 is considered finite.)"
   ]
  },
  {
   "cell_type": "code",
   "execution_count": 117,
   "metadata": {},
   "outputs": [
    {
     "data": {
      "text/plain": [
       "9425947759838359420851623124482936749562312794702543768327889353416977599316221476503087861591808346911623490003549599583369706302603264000000000000000000000000"
      ]
     },
     "execution_count": 117,
     "metadata": {},
     "output_type": "execute_result"
    }
   ],
   "source": [
    "mt.factorial(joe)\n",
    "#Return x factorial."
   ]
  },
  {
   "cell_type": "markdown",
   "metadata": {},
   "source": [
    "# Exercises from chapters 4 & 5 from \"Python for Data science for Dummies\""
   ]
  },
  {
   "cell_type": "markdown",
   "metadata": {},
   "source": [
    "### Basic Python commands/exercises"
   ]
  },
  {
   "cell_type": "code",
   "execution_count": 2,
   "metadata": {},
   "outputs": [],
   "source": [
    "import datetime as dt"
   ]
  },
  {
   "cell_type": "code",
   "execution_count": 3,
   "metadata": {},
   "outputs": [
    {
     "data": {
      "text/plain": [
       "datetime.datetime(2018, 10, 14, 13, 50, 7, 925172)"
      ]
     },
     "execution_count": 3,
     "metadata": {},
     "output_type": "execute_result"
    }
   ],
   "source": [
    "dt.datetime.now()"
   ]
  },
  {
   "cell_type": "code",
   "execution_count": 4,
   "metadata": {},
   "outputs": [
    {
     "data": {
      "text/plain": [
       "'2018-10-14'"
      ]
     },
     "execution_count": 4,
     "metadata": {},
     "output_type": "execute_result"
    }
   ],
   "source": [
    "str(dt.datetime.now().date())"
   ]
  },
  {
   "cell_type": "code",
   "execution_count": 5,
   "metadata": {},
   "outputs": [
    {
     "data": {
      "text/plain": [
       "'13:56:28.430093'"
      ]
     },
     "execution_count": 5,
     "metadata": {},
     "output_type": "execute_result"
    }
   ],
   "source": [
    "str(dt.datetime.now().time())"
   ]
  },
  {
   "cell_type": "code",
   "execution_count": 12,
   "metadata": {},
   "outputs": [],
   "source": [
    "def SayHello():\n",
    "    print('Hello There.!')\n"
   ]
  },
  {
   "cell_type": "code",
   "execution_count": 13,
   "metadata": {},
   "outputs": [
    {
     "name": "stdout",
     "output_type": "stream",
     "text": [
      "Hello There.!\n"
     ]
    }
   ],
   "source": [
    "SayHello()"
   ]
  },
  {
   "cell_type": "code",
   "execution_count": 14,
   "metadata": {},
   "outputs": [],
   "source": [
    "def DoSum(Value1, Value2):\n",
    "    return Value1 + Value2"
   ]
  },
  {
   "cell_type": "code",
   "execution_count": 17,
   "metadata": {},
   "outputs": [
    {
     "ename": "TypeError",
     "evalue": "DoSum() missing 2 required positional arguments: 'Value1' and 'Value2'",
     "output_type": "error",
     "traceback": [
      "\u001b[0;31m---------------------------------------------------------------------------\u001b[0m",
      "\u001b[0;31mTypeError\u001b[0m                                 Traceback (most recent call last)",
      "\u001b[0;32m<ipython-input-17-ddda916e57d2>\u001b[0m in \u001b[0;36m<module>\u001b[0;34m()\u001b[0m\n\u001b[0;32m----> 1\u001b[0;31m \u001b[0mDoSum\u001b[0m\u001b[0;34m(\u001b[0m\u001b[0;34m)\u001b[0m\u001b[0;34m\u001b[0m\u001b[0m\n\u001b[0m",
      "\u001b[0;31mTypeError\u001b[0m: DoSum() missing 2 required positional arguments: 'Value1' and 'Value2'"
     ]
    }
   ],
   "source": [
    "DoSum()"
   ]
  },
  {
   "cell_type": "code",
   "execution_count": 18,
   "metadata": {},
   "outputs": [
    {
     "data": {
      "text/plain": [
       "3"
      ]
     },
     "execution_count": 18,
     "metadata": {},
     "output_type": "execute_result"
    }
   ],
   "source": [
    "DoSum(1,2)"
   ]
  },
  {
   "cell_type": "code",
   "execution_count": 19,
   "metadata": {},
   "outputs": [],
   "source": [
    "def DisplaySum(Value1, Value2):\n",
    "    print(str(Value1)+' +'+ str(Value2) + ' = '+\n",
    "    str( (Value1 + Value2)))"
   ]
  },
  {
   "cell_type": "code",
   "execution_count": 20,
   "metadata": {},
   "outputs": [
    {
     "name": "stdout",
     "output_type": "stream",
     "text": [
      "2 +3 = 5\n"
     ]
    }
   ],
   "source": [
    "DisplaySum(2,3)"
   ]
  },
  {
   "cell_type": "code",
   "execution_count": 21,
   "metadata": {},
   "outputs": [
    {
     "name": "stdout",
     "output_type": "stream",
     "text": [
      "2 +3 = 5\n"
     ]
    }
   ],
   "source": [
    "DisplaySum(Value2=3,Value1=2)"
   ]
  },
  {
   "cell_type": "code",
   "execution_count": 22,
   "metadata": {},
   "outputs": [],
   "source": [
    "def SayHello (Greeting = \"No Value Supplied\"):\n",
    "    print(Greeting)"
   ]
  },
  {
   "cell_type": "code",
   "execution_count": 24,
   "metadata": {},
   "outputs": [
    {
     "name": "stdout",
     "output_type": "stream",
     "text": [
      "No Value Supplied\n"
     ]
    }
   ],
   "source": [
    "SayHello()"
   ]
  },
  {
   "cell_type": "code",
   "execution_count": 25,
   "metadata": {},
   "outputs": [
    {
     "name": "stdout",
     "output_type": "stream",
     "text": [
      "Howdy!\n"
     ]
    }
   ],
   "source": [
    "SayHello(\"Howdy!\")"
   ]
  },
  {
   "cell_type": "code",
   "execution_count": 29,
   "metadata": {},
   "outputs": [],
   "source": [
    "def DisplayMulti(ArgCount = 0, * VarArgs):\n",
    "    print('You passed ' + str(ArgCount) + ' arguments. ', \n",
    "    VarArgs)"
   ]
  },
  {
   "cell_type": "code",
   "execution_count": 30,
   "metadata": {},
   "outputs": [
    {
     "name": "stdout",
     "output_type": "stream",
     "text": [
      "You passed 0 arguments.  ()\n"
     ]
    }
   ],
   "source": [
    "DisplayMulti()"
   ]
  },
  {
   "cell_type": "code",
   "execution_count": 31,
   "metadata": {},
   "outputs": [
    {
     "name": "stdout",
     "output_type": "stream",
     "text": [
      "You passed 3 arguments.  ('Hello', 1, True)\n"
     ]
    }
   ],
   "source": [
    "DisplayMulti(3, 'Hello' , 1, True)"
   ]
  },
  {
   "cell_type": "code",
   "execution_count": 39,
   "metadata": {},
   "outputs": [],
   "source": [
    "def TestValue(Value):\n",
    "    if Value == 5:\n",
    "        print('Value equals 5!')\n",
    "    elif Value == 6:\n",
    "        print('Value equals 6!')\n",
    "    else:\n",
    "        print ('Value is something else.')\n",
    "        print('It equals ' + str(Value))"
   ]
  },
  {
   "cell_type": "code",
   "execution_count": 40,
   "metadata": {},
   "outputs": [
    {
     "name": "stdout",
     "output_type": "stream",
     "text": [
      "Value is something else.\n",
      "It equals 1\n"
     ]
    }
   ],
   "source": [
    "TestValue(1)"
   ]
  },
  {
   "cell_type": "code",
   "execution_count": 41,
   "metadata": {},
   "outputs": [
    {
     "name": "stdout",
     "output_type": "stream",
     "text": [
      "Value equals 5!\n"
     ]
    }
   ],
   "source": [
    "TestValue(5)"
   ]
  },
  {
   "cell_type": "code",
   "execution_count": 42,
   "metadata": {},
   "outputs": [
    {
     "name": "stdout",
     "output_type": "stream",
     "text": [
      "Value equals 6!\n"
     ]
    }
   ],
   "source": [
    "TestValue(6)"
   ]
  },
  {
   "cell_type": "code",
   "execution_count": 45,
   "metadata": {},
   "outputs": [],
   "source": [
    "def SecretNumber():\n",
    "    One = int(input(\"Type a number between 1 and 10: \"))\n",
    "    Two = int(input(\"Type a number between 1 and 10: \"))\n",
    "    \n",
    "    if (One >=1) and (One  <= 10):\n",
    "        if (Two >=1) and (Two <= 10):\n",
    "            print ('Your secret number is: ' + str(One * Two))\n",
    "        else:\n",
    "            print(\"Incorrect Second Value!\")\n",
    "    else:\n",
    "        print(\"Incorrect First Value!\")"
   ]
  },
  {
   "cell_type": "code",
   "execution_count": 46,
   "metadata": {},
   "outputs": [
    {
     "name": "stdout",
     "output_type": "stream",
     "text": [
      "Type a number between 1 and 10: 3\n",
      "Type a number between 1 and 10: 11\n",
      "Incorrect Second Value!\n"
     ]
    }
   ],
   "source": [
    "SecretNumber()"
   ]
  },
  {
   "cell_type": "code",
   "execution_count": 47,
   "metadata": {},
   "outputs": [
    {
     "name": "stdout",
     "output_type": "stream",
     "text": [
      "Type a number between 1 and 10: 20\n",
      "Type a number between 1 and 10: 10\n",
      "Incorrect First Value!\n"
     ]
    }
   ],
   "source": [
    "SecretNumber()"
   ]
  },
  {
   "cell_type": "code",
   "execution_count": 48,
   "metadata": {},
   "outputs": [
    {
     "name": "stdout",
     "output_type": "stream",
     "text": [
      "Type a number between 1 and 10: 10\n",
      "Type a number between 1 and 10: 10\n",
      "Your secret number is: 100\n"
     ]
    }
   ],
   "source": [
    "SecretNumber()"
   ]
  },
  {
   "cell_type": "markdown",
   "metadata": {},
   "source": [
    "    Repetitive tasks using 'for loop'"
   ]
  },
  {
   "cell_type": "code",
   "execution_count": 64,
   "metadata": {},
   "outputs": [],
   "source": [
    "def DisplayMulti(*VarArgs) :\n",
    "    for Arg in VarArgs :\n",
    "        if Arg.upper() == 'CONT':\n",
    "            continue\n",
    "            print('Continue Argument: ' +Arg)\n",
    "        elif Arg.upper() == 'BREAK':\n",
    "                break\n",
    "                print('Break Argument: ' + Arg)\n",
    "    print('Good Argument: ' + Arg)"
   ]
  },
  {
   "cell_type": "code",
   "execution_count": 65,
   "metadata": {},
   "outputs": [
    {
     "ename": "UnboundLocalError",
     "evalue": "local variable 'Arg' referenced before assignment",
     "output_type": "error",
     "traceback": [
      "\u001b[0;31m---------------------------------------------------------------------------\u001b[0m",
      "\u001b[0;31mUnboundLocalError\u001b[0m                         Traceback (most recent call last)",
      "\u001b[0;32m<ipython-input-65-cff17aea1d23>\u001b[0m in \u001b[0;36m<module>\u001b[0;34m()\u001b[0m\n\u001b[0;32m----> 1\u001b[0;31m \u001b[0mDisplayMulti\u001b[0m\u001b[0;34m(\u001b[0m\u001b[0;34m)\u001b[0m\u001b[0;34m\u001b[0m\u001b[0m\n\u001b[0m",
      "\u001b[0;32m<ipython-input-64-5b319af54477>\u001b[0m in \u001b[0;36mDisplayMulti\u001b[0;34m(*VarArgs)\u001b[0m\n\u001b[1;32m      7\u001b[0m                 \u001b[0;32mbreak\u001b[0m\u001b[0;34m\u001b[0m\u001b[0m\n\u001b[1;32m      8\u001b[0m                 \u001b[0mprint\u001b[0m\u001b[0;34m(\u001b[0m\u001b[0;34m'Break Argument: '\u001b[0m \u001b[0;34m+\u001b[0m \u001b[0mArg\u001b[0m\u001b[0;34m)\u001b[0m\u001b[0;34m\u001b[0m\u001b[0m\n\u001b[0;32m----> 9\u001b[0;31m     \u001b[0mprint\u001b[0m\u001b[0;34m(\u001b[0m\u001b[0;34m'Good Argument: '\u001b[0m \u001b[0;34m+\u001b[0m \u001b[0mArg\u001b[0m\u001b[0;34m)\u001b[0m\u001b[0;34m\u001b[0m\u001b[0m\n\u001b[0m",
      "\u001b[0;31mUnboundLocalError\u001b[0m: local variable 'Arg' referenced before assignment"
     ]
    }
   ],
   "source": [
    "DisplayMulti()"
   ]
  },
  {
   "cell_type": "code",
   "execution_count": 67,
   "metadata": {},
   "outputs": [
    {
     "name": "stdout",
     "output_type": "stream",
     "text": [
      "Good Argument: Last\n"
     ]
    }
   ],
   "source": [
    "DisplayMulti('Hello','Goodbye','First','Last')"
   ]
  },
  {
   "cell_type": "code",
   "execution_count": 68,
   "metadata": {},
   "outputs": [
    {
     "name": "stdout",
     "output_type": "stream",
     "text": [
      "Good Argument: Break\n"
     ]
    }
   ],
   "source": [
    "DisplayMulti('Hello','Cont','Goodbye','Break','First','Last')"
   ]
  },
  {
   "cell_type": "markdown",
   "metadata": {},
   "source": [
    "           Using the while Statement"
   ]
  },
  {
   "cell_type": "code",
   "execution_count": 70,
   "metadata": {},
   "outputs": [],
   "source": [
    "def SecretNumber():\n",
    "    GotIt = False\n",
    "    while GotIt == False:\n",
    "        One = int(input(\"Type a number between 1 and 10: \"))\n",
    "        Two = int(input(\"Type a number between 1 and 10: \"))\n",
    "    \n",
    "        if (One >=1) and (One  <= 10):\n",
    "            if (Two >=1) and (Two <= 10):\n",
    "                print ('Secret number is: ' + str(One * Two))\n",
    "                GotIt = True\n",
    "                continue\n",
    "            else:\n",
    "                print(\"Incorrect Second Value!\")\n",
    "        else:\n",
    "            print(\"Incorrect First Value!\")\n",
    "        print(\"Try again!\")"
   ]
  },
  {
   "cell_type": "code",
   "execution_count": 71,
   "metadata": {},
   "outputs": [
    {
     "name": "stdout",
     "output_type": "stream",
     "text": [
      "Type a number between 1 and 10: 20\n",
      "Type a number between 1 and 10: 10\n",
      "Incorrect First Value!\n",
      "Try again!\n",
      "Type a number between 1 and 10: 10\n",
      "Type a number between 1 and 10: 20\n",
      "Incorrect Second Value!\n",
      "Try again!\n",
      "Type a number between 1 and 10: 10\n",
      "Type a number between 1 and 10: 10\n",
      "Secret number is: 100\n"
     ]
    }
   ],
   "source": [
    "SecretNumber()"
   ]
  },
  {
   "cell_type": "markdown",
   "metadata": {},
   "source": [
    "    Storing Data using Sets, Lists, and Tuples"
   ]
  },
  {
   "cell_type": "code",
   "execution_count": 76,
   "metadata": {},
   "outputs": [
    {
     "ename": "ModuleNotFoundError",
     "evalue": "No module named 'set'",
     "output_type": "error",
     "traceback": [
      "\u001b[0;31m---------------------------------------------------------------------------\u001b[0m",
      "\u001b[0;31mModuleNotFoundError\u001b[0m                       Traceback (most recent call last)",
      "\u001b[0;32m<ipython-input-76-7829aa47f3c7>\u001b[0m in \u001b[0;36m<module>\u001b[0;34m()\u001b[0m\n\u001b[0;32m----> 1\u001b[0;31m \u001b[0;32mimport\u001b[0m \u001b[0mset\u001b[0m\u001b[0;34m\u001b[0m\u001b[0m\n\u001b[0m",
      "\u001b[0;31mModuleNotFoundError\u001b[0m: No module named 'set'"
     ]
    }
   ],
   "source": [
    "import set"
   ]
  },
  {
   "cell_type": "code",
   "execution_count": 79,
   "metadata": {},
   "outputs": [],
   "source": [
    "#from sets import Set;\n",
    "#In every recent python version sets are builtin as set and Python 3 got rid of the deprecated sets module altogether.\n",
    "setA = set(['Red', 'Blue', 'Green', 'Black'])\n",
    "setB = set(['Black', 'Green', 'Yellow', 'Orange'])\n",
    "setX = setA.union(setB)\n",
    "setY = setA.intersection(setB)\n",
    "setZ = setA.difference(setB)"
   ]
  },
  {
   "cell_type": "code",
   "execution_count": 89,
   "metadata": {},
   "outputs": [
    {
     "name": "stdout",
     "output_type": "stream",
     "text": [
      "{'Orange', 'Black', 'Yellow', 'Green', 'Red', 'Blue'}\n",
      "{'Black', 'Green'}\n",
      "{'Blue', 'Red'}\n"
     ]
    }
   ],
   "source": [
    "print('{0}\\n{1}\\n{2}'.format(setX, setY, setZ))"
   ]
  },
  {
   "cell_type": "code",
   "execution_count": 92,
   "metadata": {},
   "outputs": [
    {
     "data": {
      "text/plain": [
       "True"
      ]
     },
     "execution_count": 92,
     "metadata": {},
     "output_type": "execute_result"
    }
   ],
   "source": [
    "setA.issuperset(setY)"
   ]
  },
  {
   "cell_type": "code",
   "execution_count": 93,
   "metadata": {},
   "outputs": [
    {
     "data": {
      "text/plain": [
       "True"
      ]
     },
     "execution_count": 93,
     "metadata": {},
     "output_type": "execute_result"
    }
   ],
   "source": [
    "setA.issubset(setX)"
   ]
  },
  {
   "cell_type": "code",
   "execution_count": 95,
   "metadata": {},
   "outputs": [],
   "source": [
    "setA.add('Purple')"
   ]
  },
  {
   "cell_type": "code",
   "execution_count": 96,
   "metadata": {},
   "outputs": [
    {
     "data": {
      "text/plain": [
       "False"
      ]
     },
     "execution_count": 96,
     "metadata": {},
     "output_type": "execute_result"
    }
   ],
   "source": [
    "setA.issubset(setX)"
   ]
  },
  {
   "cell_type": "markdown",
   "metadata": {},
   "source": [
    "        Working with lists"
   ]
  },
  {
   "cell_type": "code",
   "execution_count": 91,
   "metadata": {},
   "outputs": [
    {
     "data": {
      "text/plain": [
       "[0, 1, 2, 3, 4, 5, 6, 7]"
      ]
     },
     "execution_count": 91,
     "metadata": {},
     "output_type": "execute_result"
    }
   ],
   "source": [
    "ListA = [0, 1, 2, 3]\n",
    "ListB = [4, 5, 6, 7]\n",
    "ListA.extend(ListB)\n",
    "ListA"
   ]
  },
  {
   "cell_type": "code",
   "execution_count": 97,
   "metadata": {},
   "outputs": [
    {
     "data": {
      "text/plain": [
       "[0, 1, 2, 3, 4, 5, 6, 7, -5]"
      ]
     },
     "execution_count": 97,
     "metadata": {},
     "output_type": "execute_result"
    }
   ],
   "source": [
    "ListA.append(-5)\n",
    "ListA"
   ]
  },
  {
   "cell_type": "code",
   "execution_count": 98,
   "metadata": {},
   "outputs": [
    {
     "data": {
      "text/plain": [
       "[0, 1, 2, 3, 4, 5, 6, 7]"
      ]
     },
     "execution_count": 98,
     "metadata": {},
     "output_type": "execute_result"
    }
   ],
   "source": [
    "ListA.remove(-5)\n",
    "ListA"
   ]
  },
  {
   "cell_type": "code",
   "execution_count": 99,
   "metadata": {},
   "outputs": [
    {
     "data": {
      "text/plain": [
       "[0, 1, 2, 3, 4, 5, 6, 7, 4, 5, 6, 7]"
      ]
     },
     "execution_count": 99,
     "metadata": {},
     "output_type": "execute_result"
    }
   ],
   "source": [
    "ListX = ListA + ListB\n",
    "ListX"
   ]
  },
  {
   "cell_type": "markdown",
   "metadata": {},
   "source": [
    "    Creating and using Tuples"
   ]
  },
  {
   "cell_type": "code",
   "execution_count": 100,
   "metadata": {},
   "outputs": [],
   "source": [
    "MyTuple = (1,2,3,(4,5,6,(7,8,9)))"
   ]
  },
  {
   "cell_type": "code",
   "execution_count": 104,
   "metadata": {},
   "outputs": [
    {
     "name": "stdout",
     "output_type": "stream",
     "text": [
      "1\n",
      "2\n",
      "3\n",
      "\t 4\n",
      "\t 5\n",
      "\t 6\n",
      "\t\t 7\n",
      "\t\t 8\n",
      "\t\t 9\n"
     ]
    }
   ],
   "source": [
    "for Value1 in MyTuple:\n",
    "    if type(Value1) == int:\n",
    "        print (Value1)\n",
    "    else:\n",
    "        for Value2 in Value1:\n",
    "            if type(Value2) == int:\n",
    "                print (\"\\t\", Value2)\n",
    "            else:\n",
    "                for Value3 in Value2:\n",
    "                    print (\"\\t\\t\", Value3)"
   ]
  },
  {
   "cell_type": "code",
   "execution_count": 109,
   "metadata": {},
   "outputs": [
    {
     "ename": "AttributeError",
     "evalue": "'tuple' object has no attribute '_add_'",
     "output_type": "error",
     "traceback": [
      "\u001b[0;31m---------------------------------------------------------------------------\u001b[0m",
      "\u001b[0;31mAttributeError\u001b[0m                            Traceback (most recent call last)",
      "\u001b[0;32m<ipython-input-109-c4cbc14d1de3>\u001b[0m in \u001b[0;36m<module>\u001b[0;34m()\u001b[0m\n\u001b[0;32m----> 1\u001b[0;31m \u001b[0mMyNewTuple\u001b[0m \u001b[0;34m=\u001b[0m \u001b[0mMyTuple\u001b[0m\u001b[0;34m.\u001b[0m\u001b[0m_add_\u001b[0m\u001b[0;34m(\u001b[0m\u001b[0;34m(\u001b[0m\u001b[0;36m10\u001b[0m\u001b[0;34m,\u001b[0m\u001b[0;36m11\u001b[0m\u001b[0;34m,\u001b[0m\u001b[0;36m12\u001b[0m\u001b[0;34m,\u001b[0m\u001b[0;34m(\u001b[0m\u001b[0;36m13\u001b[0m\u001b[0;34m,\u001b[0m\u001b[0;36m14\u001b[0m\u001b[0;34m,\u001b[0m\u001b[0;36m15\u001b[0m\u001b[0;34m)\u001b[0m\u001b[0;34m)\u001b[0m\u001b[0;34m)\u001b[0m\u001b[0;34m\u001b[0m\u001b[0m\n\u001b[0m",
      "\u001b[0;31mAttributeError\u001b[0m: 'tuple' object has no attribute '_add_'"
     ]
    }
   ],
   "source": [
    "MyNewTuple = MyTuple._add_((10,11,12,(13,14,15)))"
   ]
  },
  {
   "cell_type": "code",
   "execution_count": 112,
   "metadata": {},
   "outputs": [
    {
     "ename": "AttributeError",
     "evalue": "'tuple' object has no attribute 'append'",
     "output_type": "error",
     "traceback": [
      "\u001b[0;31m---------------------------------------------------------------------------\u001b[0m",
      "\u001b[0;31mAttributeError\u001b[0m                            Traceback (most recent call last)",
      "\u001b[0;32m<ipython-input-112-4b5bde191335>\u001b[0m in \u001b[0;36m<module>\u001b[0;34m()\u001b[0m\n\u001b[0;32m----> 1\u001b[0;31m \u001b[0mMyTuple\u001b[0m\u001b[0;34m.\u001b[0m\u001b[0mappend\u001b[0m\u001b[0;34m(\u001b[0m\u001b[0;34m(\u001b[0m\u001b[0;36m10\u001b[0m\u001b[0;34m,\u001b[0m\u001b[0;36m11\u001b[0m\u001b[0;34m,\u001b[0m\u001b[0;36m12\u001b[0m\u001b[0;34m,\u001b[0m\u001b[0;34m(\u001b[0m\u001b[0;36m13\u001b[0m\u001b[0;34m,\u001b[0m\u001b[0;36m14\u001b[0m\u001b[0;34m,\u001b[0m\u001b[0;36m15\u001b[0m\u001b[0;34m)\u001b[0m\u001b[0;34m)\u001b[0m\u001b[0;34m)\u001b[0m\u001b[0;34m\u001b[0m\u001b[0m\n\u001b[0m",
      "\u001b[0;31mAttributeError\u001b[0m: 'tuple' object has no attribute 'append'"
     ]
    }
   ],
   "source": [
    "MyNewTuple = MyTuple.append((10,11,12,(13,14,15)))"
   ]
  },
  {
   "cell_type": "markdown",
   "metadata": {},
   "source": [
    "    Defining useful Iterators"
   ]
  },
  {
   "cell_type": "code",
   "execution_count": 113,
   "metadata": {},
   "outputs": [],
   "source": [
    "ListA = ['Orange', 'Yellow', 'Green', 'Brown']\n",
    "ListB = [1,2,3,4]"
   ]
  },
  {
   "cell_type": "code",
   "execution_count": 114,
   "metadata": {},
   "outputs": [
    {
     "data": {
      "text/plain": [
       "'Yellow'"
      ]
     },
     "execution_count": 114,
     "metadata": {},
     "output_type": "execute_result"
    }
   ],
   "source": [
    "ListA[1]"
   ]
  },
  {
   "cell_type": "code",
   "execution_count": 115,
   "metadata": {},
   "outputs": [
    {
     "data": {
      "text/plain": [
       "'Orange'"
      ]
     },
     "execution_count": 115,
     "metadata": {},
     "output_type": "execute_result"
    }
   ],
   "source": [
    "ListA[0]"
   ]
  },
  {
   "cell_type": "code",
   "execution_count": 116,
   "metadata": {},
   "outputs": [
    {
     "data": {
      "text/plain": [
       "[2, 3]"
      ]
     },
     "execution_count": 116,
     "metadata": {},
     "output_type": "execute_result"
    }
   ],
   "source": [
    "ListB[1:3]"
   ]
  },
  {
   "cell_type": "code",
   "execution_count": 119,
   "metadata": {},
   "outputs": [
    {
     "name": "stdout",
     "output_type": "stream",
     "text": [
      "2\n",
      "3\n"
     ]
    }
   ],
   "source": [
    "for Value in ListB[1:3]:\n",
    "    print (Value)"
   ]
  },
  {
   "cell_type": "code",
   "execution_count": 120,
   "metadata": {},
   "outputs": [
    {
     "name": "stdout",
     "output_type": "stream",
     "text": [
      "1\n",
      "2\n",
      "3\n"
     ]
    }
   ],
   "source": [
    "for Value in ListB[:3]:\n",
    "    print (Value)"
   ]
  },
  {
   "cell_type": "code",
   "execution_count": 122,
   "metadata": {},
   "outputs": [
    {
     "name": "stdout",
     "output_type": "stream",
     "text": [
      "Orange \t 1\n",
      "Yellow \t 2\n",
      "Green \t 3\n",
      "Brown \t 4\n"
     ]
    }
   ],
   "source": [
    "for Value1, Value2 in zip(ListA, ListB):\n",
    "    print(Value1, '\\t', Value2)"
   ]
  },
  {
   "cell_type": "markdown",
   "metadata": {},
   "source": [
    "    Indexing data using dictionaries"
   ]
  },
  {
   "cell_type": "code",
   "execution_count": 123,
   "metadata": {},
   "outputs": [],
   "source": [
    "MyDict={'Orange':1,'Blue':2,'Pink':3}"
   ]
  },
  {
   "cell_type": "code",
   "execution_count": 124,
   "metadata": {},
   "outputs": [
    {
     "data": {
      "text/plain": [
       "3"
      ]
     },
     "execution_count": 124,
     "metadata": {},
     "output_type": "execute_result"
    }
   ],
   "source": [
    "MyDict['Pink']"
   ]
  },
  {
   "cell_type": "code",
   "execution_count": 125,
   "metadata": {},
   "outputs": [
    {
     "data": {
      "text/plain": [
       "dict_keys(['Orange', 'Blue', 'Pink'])"
      ]
     },
     "execution_count": 125,
     "metadata": {},
     "output_type": "execute_result"
    }
   ],
   "source": [
    "MyDict.keys()"
   ]
  },
  {
   "cell_type": "code",
   "execution_count": 127,
   "metadata": {},
   "outputs": [
    {
     "data": {
      "text/plain": [
       "dict_values([1, 2, 3])"
      ]
     },
     "execution_count": 127,
     "metadata": {},
     "output_type": "execute_result"
    }
   ],
   "source": [
    "MyDict.values()"
   ]
  },
  {
   "cell_type": "markdown",
   "metadata": {},
   "source": [
    "# Uploading, Streaming, and Sampling Data--Exercises from chapter 5"
   ]
  },
  {
   "cell_type": "markdown",
   "metadata": {},
   "source": [
    "### Uploading small amounts of data into memory"
   ]
  },
  {
   "cell_type": "code",
   "execution_count": 143,
   "metadata": {},
   "outputs": [
    {
     "name": "stdout",
     "output_type": "stream",
     "text": [
      "Colors.txt content:\n",
      "Color\tValue\n",
      "Red\t1\n",
      "Orange\t2\n",
      "Yellow\t3\n",
      "Green\t4\n",
      "Blue\t5\n",
      "Purple\t6\n",
      "Black\t7\n",
      "White\t8\n"
     ]
    }
   ],
   "source": [
    "#access mode for python version 3.x will be 'r' and lower version the readmode will be'rb'\n",
    "with open (\"Colors.txt\", 'r') as open_file:\n",
    "    print ('Colors.txt content:\\n' + open_file.read())"
   ]
  },
  {
   "cell_type": "code",
   "execution_count": 149,
   "metadata": {},
   "outputs": [
    {
     "name": "stdout",
     "output_type": "stream",
     "text": [
      "Colors.txt content:\n",
      "Color\tValue\n",
      "Red\t1\n",
      "Orange\t2\n",
      "Yellow\t3\n",
      "Green\t4\n",
      "Blue\t5\n"
     ]
    }
   ],
   "source": [
    "with open (\"Colors.txt\", 'r') as open_file:\n",
    "    print ('Colors.txt content:\\n' + open_file.read(50))"
   ]
  },
  {
   "cell_type": "markdown",
   "metadata": {},
   "source": [
    "### Streaming large amounts of data into memory"
   ]
  },
  {
   "cell_type": "code",
   "execution_count": 145,
   "metadata": {},
   "outputs": [
    {
     "name": "stdout",
     "output_type": "stream",
     "text": [
      "Reading Data: Color\tValue\n",
      "\n",
      "Reading Data: Red\t1\n",
      "\n",
      "Reading Data: Orange\t2\n",
      "\n",
      "Reading Data: Yellow\t3\n",
      "\n",
      "Reading Data: Green\t4\n",
      "\n",
      "Reading Data: Blue\t5\n",
      "\n",
      "Reading Data: Purple\t6\n",
      "\n",
      "Reading Data: Black\t7\n",
      "\n",
      "Reading Data: White\t8\n"
     ]
    }
   ],
   "source": [
    "with open(\"Colors.txt\", 'r') as open_file:\n",
    "    for observation in open_file:\n",
    "        print ('Reading Data: ' + observation)"
   ]
  },
  {
   "cell_type": "markdown",
   "metadata": {},
   "source": [
    "## Sampling data"
   ]
  },
  {
   "cell_type": "markdown",
   "metadata": {},
   "source": [
    "### Fixed samples"
   ]
  },
  {
   "cell_type": "code",
   "execution_count": 151,
   "metadata": {},
   "outputs": [
    {
     "name": "stdout",
     "output_type": "stream",
     "text": [
      "Reading Line: 0 Content: Color\tValue\n",
      "\n",
      "Reading Line: 2 Content: Orange\t2\n",
      "\n",
      "Reading Line: 4 Content: Green\t4\n",
      "\n",
      "Reading Line: 6 Content: Purple\t6\n",
      "\n",
      "Reading Line: 8 Content: White\t8\n"
     ]
    }
   ],
   "source": [
    "n = 2\n",
    "with open(\"Colors.txt\", 'r') as open_file:\n",
    "    for j, observation in enumerate(open_file):\n",
    "        if j % n==0:\n",
    "            print('Reading Line: ' + str(j) + \n",
    "            ' Content: ' + observation)"
   ]
  },
  {
   "cell_type": "code",
   "execution_count": 152,
   "metadata": {},
   "outputs": [
    {
     "name": "stdout",
     "output_type": "stream",
     "text": [
      "Reading Line: 0 Content: Color\tValue\n",
      "\n",
      "Reading Line: 3 Content: Yellow\t3\n",
      "\n",
      "Reading Line: 6 Content: Purple\t6\n",
      "\n"
     ]
    }
   ],
   "source": [
    "n = 3\n",
    "with open(\"Colors.txt\", 'r') as open_file:\n",
    "    for j, observation in enumerate(open_file):\n",
    "        if j % n==0:\n",
    "            print('Reading Line: ' + str(j) + \n",
    "            ' Content: ' + observation)"
   ]
  },
  {
   "cell_type": "markdown",
   "metadata": {},
   "source": [
    "### Random samples"
   ]
  },
  {
   "cell_type": "code",
   "execution_count": 153,
   "metadata": {},
   "outputs": [
    {
     "name": "stdout",
     "output_type": "stream",
     "text": [
      "Reading Line: 0 Content: Color\tValue\n",
      "\n",
      "Reading Line: 2 Content: Orange\t2\n",
      "\n",
      "Reading Line: 4 Content: Green\t4\n",
      "\n",
      "Reading Line: 6 Content: Purple\t6\n",
      "\n"
     ]
    }
   ],
   "source": [
    "from random import random\n",
    "sample_size = 0.25\n",
    "with open(\"Colors.txt\", 'r') as open_file:\n",
    "    for j, observation in enumerate(open_file):\n",
    "        if random()<=sample_size:\n",
    "            print('Reading Line: ' + str(j) + \n",
    "            ' Content: ' + observation)"
   ]
  },
  {
   "cell_type": "markdown",
   "metadata": {},
   "source": [
    "# Accessing Data in Structured Flat File Form"
   ]
  },
  {
   "cell_type": "markdown",
   "metadata": {},
   "source": [
    "### Reading from a text file"
   ]
  },
  {
   "cell_type": "code",
   "execution_count": 155,
   "metadata": {},
   "outputs": [
    {
     "name": "stdout",
     "output_type": "stream",
     "text": [
      "    Color  Value\n",
      "0     Red      1\n",
      "1  Orange      2\n",
      "2  Yellow      3\n",
      "3   Green      4\n",
      "4    Blue      5\n",
      "5  Purple      6\n",
      "6   Black      7\n",
      "7   White      8\n"
     ]
    }
   ],
   "source": [
    "import pandas as pd\n",
    "color_table = pd.io.parsers.read_table(\"Colors.txt\")\n",
    "print (color_table)"
   ]
  },
  {
   "cell_type": "markdown",
   "metadata": {},
   "source": [
    "# Reading CSV delimited format"
   ]
  },
  {
   "cell_type": "code",
   "execution_count": 156,
   "metadata": {},
   "outputs": [
    {
     "name": "stdout",
     "output_type": "stream",
     "text": [
      "            age\n",
      "0       29.0000\n",
      "1        0.9167\n",
      "2        2.0000\n",
      "3       30.0000\n",
      "4       25.0000\n",
      "5       48.0000\n",
      "6       63.0000\n",
      "7       39.0000\n",
      "8       53.0000\n",
      "9       71.0000\n",
      "10      47.0000\n",
      "11      18.0000\n",
      "12      24.0000\n",
      "13      26.0000\n",
      "14      80.0000\n",
      "15    9999.0000\n",
      "16      24.0000\n",
      "17      50.0000\n",
      "18      32.0000\n",
      "19      36.0000\n",
      "20      37.0000\n",
      "21      47.0000\n",
      "22      26.0000\n",
      "23      42.0000\n",
      "24      29.0000\n",
      "25      25.0000\n",
      "26      25.0000\n",
      "27      19.0000\n",
      "28      35.0000\n",
      "29      28.0000\n",
      "...         ...\n",
      "1279    14.0000\n",
      "1280    22.0000\n",
      "1281    22.0000\n",
      "1282  9999.0000\n",
      "1283  9999.0000\n",
      "1284  9999.0000\n",
      "1285    32.5000\n",
      "1286    38.0000\n",
      "1287    51.0000\n",
      "1288    18.0000\n",
      "1289    21.0000\n",
      "1290    47.0000\n",
      "1291  9999.0000\n",
      "1292  9999.0000\n",
      "1293  9999.0000\n",
      "1294    28.5000\n",
      "1295    21.0000\n",
      "1296    27.0000\n",
      "1297  9999.0000\n",
      "1298    36.0000\n",
      "1299    27.0000\n",
      "1300    15.0000\n",
      "1301    45.5000\n",
      "1302  9999.0000\n",
      "1303  9999.0000\n",
      "1304    14.5000\n",
      "1305  9999.0000\n",
      "1306    26.5000\n",
      "1307    27.0000\n",
      "1308    29.0000\n",
      "\n",
      "[1309 rows x 1 columns]\n"
     ]
    }
   ],
   "source": [
    "import pandas as pd\n",
    "titanic = pd.io.parsers.read_csv(\"Titanic.csv\")\n",
    "X = titanic[['age']]\n",
    "#X = titanic[['age']].values\n",
    "print (X)"
   ]
  },
  {
   "cell_type": "code",
   "execution_count": 157,
   "metadata": {},
   "outputs": [
    {
     "name": "stdout",
     "output_type": "stream",
     "text": [
      "[[29.        ]\n",
      " [ 0.91670001]\n",
      " [ 2.        ]\n",
      " ...\n",
      " [26.5       ]\n",
      " [27.        ]\n",
      " [29.        ]]\n"
     ]
    }
   ],
   "source": [
    "import pandas as pd\n",
    "titanic = pd.io.parsers.read_csv(\"Titanic.csv\")\n",
    "#X = titanic[['age']]\n",
    "X = titanic[['age']].values\n",
    "print (X)"
   ]
  },
  {
   "cell_type": "markdown",
   "metadata": {},
   "source": [
    "# Reading Excel and other Microsoft Office files"
   ]
  },
  {
   "cell_type": "code",
   "execution_count": 158,
   "metadata": {},
   "outputs": [
    {
     "name": "stdout",
     "output_type": "stream",
     "text": [
      "    Angle (Degrees)      Sine    Cosine    Tangent\n",
      "0        138.550574  0.661959 -0.749540  -0.883153\n",
      "1        305.535745 -0.813753  0.581211  -1.400100\n",
      "2        280.518695 -0.983195  0.182556  -5.385709\n",
      "3        216.363795 -0.592910 -0.805269   0.736289\n",
      "4         36.389247  0.593268  0.805005   0.736974\n",
      "5         31.474311  0.522116  0.852874   0.612184\n",
      "6        120.121669  0.864962 -0.501838  -1.723588\n",
      "7        293.947055 -0.913921  0.405892  -2.251634\n",
      "8        179.882632  0.002048 -0.999998  -0.002048\n",
      "9        120.927562  0.857818 -0.513954  -1.669056\n",
      "10        71.349485  0.947487  0.319795   2.962796\n",
      "11       241.971082 -0.882711 -0.469917   1.878439\n",
      "12       297.208817 -0.889346  0.457235  -1.945053\n",
      "13       142.004551  0.615599 -0.788060  -0.781158\n",
      "14       173.770696  0.108508 -0.994096  -0.109152\n",
      "15       229.232002 -0.757360 -0.652998   1.159820\n",
      "16        67.926976  0.926706  0.375788   2.466033\n",
      "17       261.866575 -0.989941 -0.141479   6.997102\n",
      "18        59.185450  0.858830  0.512261   1.676547\n",
      "19        98.029275  0.990197 -0.139679  -7.089086\n",
      "20         9.336088  0.162225  0.986754   0.164403\n",
      "21        90.746371  0.999915 -0.013026 -76.761483\n",
      "22       217.798087 -0.612881 -0.790175   0.775626\n",
      "23        58.616049  0.853697  0.520771   1.639295\n",
      "24       197.196367 -0.295647 -0.955297   0.309482\n",
      "25       331.194892 -0.481832  0.876264  -0.549871\n",
      "26         6.509875  0.113374  0.993552   0.114110\n",
      "27       266.390707 -0.998017 -0.062952  15.853513\n",
      "28       230.323819 -0.769665 -0.638448   1.205525\n",
      "29       314.224257 -0.716615  0.697469  -1.027452\n",
      "..              ...       ...       ...        ...\n",
      "42       324.080564 -0.586647  0.809843  -0.724396\n",
      "43       140.893727  0.630761 -0.775977  -0.812860\n",
      "44       128.226889  0.785567 -0.618777  -1.269547\n",
      "45        82.770054  0.992049  0.125852   7.882680\n",
      "46       303.112455 -0.837600  0.546284  -1.533268\n",
      "47       164.824273  0.261780 -0.965127  -0.271239\n",
      "48       218.829827 -0.627009 -0.779012   0.804878\n",
      "49        28.649593  0.479452  0.877568   0.546341\n",
      "50       349.336296 -0.185044  0.982730  -0.188296\n",
      "51        84.889713  0.996025  0.089073  11.182105\n",
      "52       197.935862 -0.307952 -0.951402   0.323683\n",
      "53       303.049380 -0.838201  0.545362  -1.536963\n",
      "54       183.737235 -0.065181 -0.997873   0.065320\n",
      "55       346.153919 -0.239314  0.970942  -0.246477\n",
      "56       218.822745 -0.626913 -0.779089   0.804674\n",
      "57       243.969070 -0.898557 -0.438856   2.047498\n",
      "58       115.600771  0.901827 -0.432098  -2.087089\n",
      "59       125.906606  0.809974 -0.586466  -1.381111\n",
      "60       200.094363 -0.343567 -0.939128   0.365836\n",
      "61       337.860807 -0.376858  0.926271  -0.406855\n",
      "62       168.176975  0.204889 -0.978785  -0.209330\n",
      "63       305.708155 -0.812000  0.583657  -1.391229\n",
      "64       162.656078  0.298107 -0.954533  -0.312306\n",
      "65       219.007899 -0.629428 -0.777059   0.810012\n",
      "66       222.830465 -0.679831 -0.733368   0.926998\n",
      "67       324.199562 -0.584964  0.811059  -0.721234\n",
      "68       187.948172 -0.138277 -0.990394   0.139619\n",
      "69       270.678249 -0.999930  0.011837 -84.472139\n",
      "70       270.779159 -0.999908  0.013598 -73.530885\n",
      "71       200.213513 -0.345520 -0.938412   0.368196\n",
      "\n",
      "[72 rows x 4 columns]\n"
     ]
    }
   ],
   "source": [
    "import pandas as pd\n",
    "xls = pd.ExcelFile(\"Values.xls\")\n",
    "trig_values = xls.parse('Sheet1', index_col=None, \n",
    "                        na_values=['NA'])\n",
    "#trig_values = pd.read_excel(\"Values.xls\", 'Sheet1', index_col=None, na_values=['NA'])\n",
    "print (trig_values)"
   ]
  },
  {
   "cell_type": "code",
   "execution_count": 159,
   "metadata": {},
   "outputs": [
    {
     "name": "stdout",
     "output_type": "stream",
     "text": [
      "    Angle (Degrees)      Sine    Cosine    Tangent\n",
      "0        138.550574  0.661959 -0.749540  -0.883153\n",
      "1        305.535745 -0.813753  0.581211  -1.400100\n",
      "2        280.518695 -0.983195  0.182556  -5.385709\n",
      "3        216.363795 -0.592910 -0.805269   0.736289\n",
      "4         36.389247  0.593268  0.805005   0.736974\n",
      "5         31.474311  0.522116  0.852874   0.612184\n",
      "6        120.121669  0.864962 -0.501838  -1.723588\n",
      "7        293.947055 -0.913921  0.405892  -2.251634\n",
      "8        179.882632  0.002048 -0.999998  -0.002048\n",
      "9        120.927562  0.857818 -0.513954  -1.669056\n",
      "10        71.349485  0.947487  0.319795   2.962796\n",
      "11       241.971082 -0.882711 -0.469917   1.878439\n",
      "12       297.208817 -0.889346  0.457235  -1.945053\n",
      "13       142.004551  0.615599 -0.788060  -0.781158\n",
      "14       173.770696  0.108508 -0.994096  -0.109152\n",
      "15       229.232002 -0.757360 -0.652998   1.159820\n",
      "16        67.926976  0.926706  0.375788   2.466033\n",
      "17       261.866575 -0.989941 -0.141479   6.997102\n",
      "18        59.185450  0.858830  0.512261   1.676547\n",
      "19        98.029275  0.990197 -0.139679  -7.089086\n",
      "20         9.336088  0.162225  0.986754   0.164403\n",
      "21        90.746371  0.999915 -0.013026 -76.761483\n",
      "22       217.798087 -0.612881 -0.790175   0.775626\n",
      "23        58.616049  0.853697  0.520771   1.639295\n",
      "24       197.196367 -0.295647 -0.955297   0.309482\n",
      "25       331.194892 -0.481832  0.876264  -0.549871\n",
      "26         6.509875  0.113374  0.993552   0.114110\n",
      "27       266.390707 -0.998017 -0.062952  15.853513\n",
      "28       230.323819 -0.769665 -0.638448   1.205525\n",
      "29       314.224257 -0.716615  0.697469  -1.027452\n",
      "..              ...       ...       ...        ...\n",
      "42       324.080564 -0.586647  0.809843  -0.724396\n",
      "43       140.893727  0.630761 -0.775977  -0.812860\n",
      "44       128.226889  0.785567 -0.618777  -1.269547\n",
      "45        82.770054  0.992049  0.125852   7.882680\n",
      "46       303.112455 -0.837600  0.546284  -1.533268\n",
      "47       164.824273  0.261780 -0.965127  -0.271239\n",
      "48       218.829827 -0.627009 -0.779012   0.804878\n",
      "49        28.649593  0.479452  0.877568   0.546341\n",
      "50       349.336296 -0.185044  0.982730  -0.188296\n",
      "51        84.889713  0.996025  0.089073  11.182105\n",
      "52       197.935862 -0.307952 -0.951402   0.323683\n",
      "53       303.049380 -0.838201  0.545362  -1.536963\n",
      "54       183.737235 -0.065181 -0.997873   0.065320\n",
      "55       346.153919 -0.239314  0.970942  -0.246477\n",
      "56       218.822745 -0.626913 -0.779089   0.804674\n",
      "57       243.969070 -0.898557 -0.438856   2.047498\n",
      "58       115.600771  0.901827 -0.432098  -2.087089\n",
      "59       125.906606  0.809974 -0.586466  -1.381111\n",
      "60       200.094363 -0.343567 -0.939128   0.365836\n",
      "61       337.860807 -0.376858  0.926271  -0.406855\n",
      "62       168.176975  0.204889 -0.978785  -0.209330\n",
      "63       305.708155 -0.812000  0.583657  -1.391229\n",
      "64       162.656078  0.298107 -0.954533  -0.312306\n",
      "65       219.007899 -0.629428 -0.777059   0.810012\n",
      "66       222.830465 -0.679831 -0.733368   0.926998\n",
      "67       324.199562 -0.584964  0.811059  -0.721234\n",
      "68       187.948172 -0.138277 -0.990394   0.139619\n",
      "69       270.678249 -0.999930  0.011837 -84.472139\n",
      "70       270.779159 -0.999908  0.013598 -73.530885\n",
      "71       200.213513 -0.345520 -0.938412   0.368196\n",
      "\n",
      "[72 rows x 4 columns]\n"
     ]
    }
   ],
   "source": [
    "import pandas as pd\n",
    "xls = pd.ExcelFile(\"Values.xls\")\n",
    "#trig_values = xls.parse('Sheet1', index_col=None, na_values=['NA'])\n",
    "trig_values = pd.read_excel(\"Values.xls\", 'Sheet1', index_col=None, na_values=['NA'])\n",
    "print (trig_values)"
   ]
  },
  {
   "cell_type": "markdown",
   "metadata": {},
   "source": [
    "# Sending Data in Unstructured File Form"
   ]
  },
  {
   "cell_type": "markdown",
   "metadata": {},
   "source": [
    "### Rendering the image"
   ]
  },
  {
   "cell_type": "code",
   "execution_count": 162,
   "metadata": {},
   "outputs": [
    {
     "data": {
      "image/png": "[encoded data removed]",
      "text/plain": [
       "<Figure size 432x288 with 1 Axes>"
      ]
     },
     "metadata": {},
     "output_type": "display_data"
    }
   ],
   "source": [
    "from skimage.io import imread\n",
    "from skimage.transform import resize \n",
    "from matplotlib import pyplot as plt\n",
    "import matplotlib.cm as cm\n",
    "\n",
    "example_file = (\"http://upload.wikimedia.org/\" +\n",
    "    \"wikipedia/commons/7/7d/Dog_face.png\")\n",
    "image = imread(example_file, as_grey=True)\n",
    "plt.imshow(image, cmap=cm.gray)\n",
    "plt.show()"
   ]
  },
  {
   "cell_type": "markdown",
   "metadata": {},
   "source": [
    "### Displaying the image information"
   ]
  },
  {
   "cell_type": "code",
   "execution_count": 163,
   "metadata": {},
   "outputs": [
    {
     "name": "stdout",
     "output_type": "stream",
     "text": [
      "data type: <class 'numpy.ndarray'>, shape: (90, 90)\n"
     ]
    }
   ],
   "source": [
    "print(\"data type: %s, shape: %s\" % \n",
    "      (type(image), image.shape))"
   ]
  },
  {
   "cell_type": "markdown",
   "metadata": {},
   "source": [
    "### Cropping the image"
   ]
  },
  {
   "cell_type": "code",
   "execution_count": 164,
   "metadata": {},
   "outputs": [
    {
     "data": {
      "image/png": "[encoded data removed]",
      "text/plain": [
       "<Figure size 432x288 with 1 Axes>"
      ]
     },
     "metadata": {},
     "output_type": "display_data"
    }
   ],
   "source": [
    "image2 = image[5:70,0:70]\n",
    "plt.imshow(image2, cmap=cm.gray)\n",
    "plt.show()"
   ]
  },
  {
   "cell_type": "markdown",
   "metadata": {},
   "source": [
    "### Resizing the image"
   ]
  },
  {
   "cell_type": "code",
   "execution_count": 172,
   "metadata": {},
   "outputs": [
    {
     "name": "stdout",
     "output_type": "stream",
     "text": [
      "data type: <class 'numpy.ndarray'>, shape: (30, 30)\n"
     ]
    },
    {
     "data": {
      "image/png": "[encoded data removed]",
      "text/plain": [
       "<Figure size 432x288 with 1 Axes>"
      ]
     },
     "metadata": {},
     "output_type": "display_data"
    }
   ],
   "source": [
    "image3 = resize(image2, (30, 30), mode='wrap')\n",
    "plt.imshow(image3, cmap=cm.gray)\n",
    "print(\"data type: %s, shape: %s\" % \n",
    "      (type(image3), image3.shape))\n",
    "#ValueError: Invalid mode specified.  Please use `constant`, `edge`, `wrap`, `reflect` or `symmetric`."
   ]
  },
  {
   "cell_type": "markdown",
   "metadata": {},
   "source": [
    "### Flatening the image"
   ]
  },
  {
   "cell_type": "code",
   "execution_count": 173,
   "metadata": {
    "scrolled": true
   },
   "outputs": [
    {
     "name": "stdout",
     "output_type": "stream",
     "text": [
      "data type: <class 'numpy.ndarray'>, shape: (900,)\n"
     ]
    }
   ],
   "source": [
    "image_row = image3.flatten()\n",
    "print(\"data type: %s, shape: %s\" % \n",
    "      (type(image_row), image_row.shape))"
   ]
  },
  {
   "cell_type": "markdown",
   "metadata": {},
   "source": [
    "### Accessing Data from the Web"
   ]
  },
  {
   "cell_type": "code",
   "execution_count": 175,
   "metadata": {},
   "outputs": [
    {
     "name": "stdout",
     "output_type": "stream",
     "text": [
      "  Number  String Boolean\n",
      "0      1   First    True\n",
      "1      2  Second   False\n",
      "2      3   Third    True\n",
      "3      4  Fourth   False\n"
     ]
    }
   ],
   "source": [
    "from lxml import objectify\n",
    "import pandas as pd\n",
    "\n",
    "xml = objectify.parse(open('XMLData.xml'))\n",
    "root = xml.getroot()\n",
    "df = pd.DataFrame(columns=('Number', 'String', 'Boolean'))\n",
    "\n",
    "for i in range(0,4):\n",
    "    obj = root.getchildren()[i].getchildren()\n",
    "    row = dict(zip(['Number', 'String', 'Boolean'], \n",
    "                   [obj[0].text, obj[1].text, \n",
    "                    obj[2].text]))\n",
    "    row_s = pd.Series(row)\n",
    "    row_s.name = i\n",
    "    df = df.append(row_s)\n",
    "    \n",
    "print (df)"
   ]
  },
  {
   "cell_type": "markdown",
   "metadata": {},
   "source": [
    "#    Import CSV DataSets from Courses 1,2,3"
   ]
  },
  {
   "cell_type": "code",
   "execution_count": 182,
   "metadata": {},
   "outputs": [
    {
     "name": "stdout",
     "output_type": "stream",
     "text": [
      "[[   12]\n",
      " [    8]\n",
      " [   12]\n",
      " [  196]\n",
      " [  232]\n",
      " [  332]\n",
      " [   44]\n",
      " [  132]\n",
      " [   64]\n",
      " [   40]\n",
      " [   84]\n",
      " [  300]\n",
      " [   40]\n",
      " [ 1252]\n",
      " [ 1396]\n",
      " [   32]\n",
      " [   44]\n",
      " [  680]\n",
      " [   60]\n",
      " [   80]\n",
      " [  136]\n",
      " [ 1576]\n",
      " [ 2052]\n",
      " [  116]\n",
      " [  308]\n",
      " [ 1224]\n",
      " [   32]\n",
      " [   88]\n",
      " [    0]\n",
      " [   24]\n",
      " [   20]\n",
      " [    0]\n",
      " [   20]\n",
      " [ 1232]\n",
      " [ 1232]\n",
      " [ 1232]\n",
      " [ 1232]\n",
      " [ 1232]\n",
      " [ 1232]\n",
      " [ 1232]\n",
      " [ 1232]\n",
      " [   84]\n",
      " [   88]\n",
      " [  368]\n",
      " [ 1536]\n",
      " [ 1464]\n",
      " [  836]\n",
      " [ 2140]\n",
      " [   52]\n",
      " [11204]\n",
      " [   12]\n",
      " [  204]\n",
      " [ 1896]\n",
      " [  432]\n",
      " [  904]\n",
      " [  360]\n",
      " [  656]\n",
      " [  104]\n",
      " [   84]\n",
      " [  296]\n",
      " [  232]\n",
      " [   16]\n",
      " [   32]\n",
      " [    8]\n",
      " [   80]\n",
      " [    0]\n",
      " [  824]\n",
      " [   32]\n",
      " [  396]\n",
      " [    4]\n",
      " [  592]\n",
      " [   16]\n",
      " [ 7036]\n",
      " [  344]\n",
      " [   12]\n",
      " [  248]\n",
      " [   72]\n",
      " [   88]\n",
      " [ 1472]\n",
      " [ 1684]]\n"
     ]
    }
   ],
   "source": [
    "import pandas as pd\n",
    "existingProductAttributes = pd.io.parsers.read_csv(\"existingProductAttributes.csv\")\n",
    "#X = titanic[['age']]\n",
    "X = existingProductAttributes[['Volume']].values\n",
    "print (X)"
   ]
  },
  {
   "cell_type": "code",
   "execution_count": 180,
   "metadata": {},
   "outputs": [
    {
     "name": "stdout",
     "output_type": "stream",
     "text": [
      "[[0]\n",
      " [1]\n",
      " [0]\n",
      " ...\n",
      " [1]\n",
      " [1]\n",
      " [1]]\n"
     ]
    }
   ],
   "source": [
    "import pandas as pd\n",
    "CompleteResponses = pd.io.parsers.read_csv(\"CompleteResponses.csv\")\n",
    "#X = titanic[['age']]\n",
    "X = CompleteResponses[['brand']].values\n",
    "print (X)"
   ]
  },
  {
   "cell_type": "code",
   "execution_count": 181,
   "metadata": {},
   "outputs": [
    {
     "name": "stdout",
     "output_type": "stream",
     "text": [
      "[[10.214]\n",
      " [10.977]\n",
      " [11.063]\n",
      " [10.484]\n",
      " [10.768]\n",
      " [11.44 ]\n",
      " [12.58 ]]\n"
     ]
    }
   ],
   "source": [
    "import pandas as pd\n",
    "AverageWinterday = pd.io.parsers.read_csv(\"AverageWinterday.csv\")\n",
    "#X = titanic[['age']]\n",
    "X = AverageWinterday[['SM3']].values\n",
    "print (X)"
   ]
  },
  {
   "cell_type": "markdown",
   "metadata": {},
   "source": [
    "# Additional Questions"
   ]
  },
  {
   "cell_type": "markdown",
   "metadata": {},
   "source": [
    "Was it straightforward to install Python and all of the libraries?\n",
    "A: Yes it was pretty straight foward to install Python and all of the libraries, POA is pretty granular and self explanatory for even a newbie.\n"
   ]
  },
  {
   "cell_type": "markdown",
   "metadata": {},
   "source": [
    "Was the tutorial useful? Would you recommend it to others?\n",
    "A: Yes the tutorial(POA) was very useful and I would definitely recommend it to others."
   ]
  },
  {
   "cell_type": "markdown",
   "metadata": {},
   "source": [
    "What are the main lessons you've learned from this experience?\n",
    "A: I have learned the basics of Python from this and understood that with a deep/good understanding of the basics its not difficult to put Python to great use in the DataScience field."
   ]
  }
 ],
 "metadata": {
  "kernelspec": {
   "display_name": "Python 3",
   "language": "python",
   "name": "python3"
  },
  "language_info": {
   "codemirror_mode": {
    "name": "ipython",
    "version": 3
   },
   "file_extension": ".py",
   "mimetype": "text/x-python",
   "name": "python",
   "nbconvert_exporter": "python",
   "pygments_lexer": "ipython3",
   "version": "3.6.5"
  }
 },
 "nbformat": 4,
 "nbformat_minor": 2
}
